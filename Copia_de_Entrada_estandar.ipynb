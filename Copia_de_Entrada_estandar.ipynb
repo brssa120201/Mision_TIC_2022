{
  "nbformat": 4,
  "nbformat_minor": 0,
  "metadata": {
    "colab": {
      "name": "Copia de Entrada_estandar.ipynb",
      "provenance": [],
      "collapsed_sections": [],
      "include_colab_link": true
    },
    "kernelspec": {
      "name": "python3",
      "display_name": "Python 3"
    },
    "language_info": {
      "name": "python"
    }
  },
  "cells": [
    {
      "cell_type": "markdown",
      "metadata": {
        "id": "view-in-github",
        "colab_type": "text"
      },
      "source": [
        "<a href=\"https://colab.research.google.com/github/brssa120201/Mision_TIC_2022/blob/main/Copia_de_Entrada_estandar.ipynb\" target=\"_parent\"><img src=\"https://colab.research.google.com/assets/colab-badge.svg\" alt=\"Open In Colab\"/></a>"
      ]
    },
    {
      "cell_type": "markdown",
      "metadata": {
        "id": "CAnrCObhSVtz"
      },
      "source": [
        "# Entrar datos a nuestro programa\n",
        "Para que un programa sea realmente útil, debe permitir el ingreso de datos del *mundo exterior*, estos datos pueden venir desde:\n",
        "\n",
        "\n",
        "1.   Un archivo en nuestro disco duro\n",
        "2.   Un dato desde un sensor como un micrófono o GPS\n",
        "3.   Datos desde un sitio en la nube\n",
        "\n",
        "En este curso los datos serán ingresados por parte de los usuarios  utilizando  el teclado también conocido como la [Entrada Estandar][1] . (seleccione para mas información\n",
        "\n",
        "[1]:https://es.wikipedia.org/wiki/Entrada_estándar\n",
        "\n",
        "La función que nos permite ingresar datos desde el teclado es\n",
        "```python\n",
        "input()\n",
        "```\n",
        "Probemos lo que sucede si le decimos al interprete de Python que interprete esta función"
      ]
    },
    {
      "cell_type": "code",
      "metadata": {
        "id": "JvsjTKU7SF11",
        "colab": {
          "base_uri": "https://localhost:8080/",
          "height": 54
        },
        "outputId": "48a05eb0-320f-4491-a1ae-8a69736abea1"
      },
      "source": [
        "#Funcion que lee un valor desde teclado y lo retorna (al hacerlo se pierde, ¿Recuerdas porque?)\n",
        "input()"
      ],
      "execution_count": null,
      "outputs": [
        {
          "output_type": "stream",
          "text": [
            "Buen día\n"
          ],
          "name": "stdout"
        },
        {
          "output_type": "execute_result",
          "data": {
            "application/vnd.google.colaboratory.intrinsic+json": {
              "type": "string"
            },
            "text/plain": [
              "'Buen día'"
            ]
          },
          "metadata": {
            "tags": []
          },
          "execution_count": 1
        }
      ]
    },
    {
      "cell_type": "markdown",
      "metadata": {
        "id": "lA5hvJqjXTQ6"
      },
      "source": [
        "```input()``` es una función que lee un valor desde teclado y lo retorna como un texto (cadena de caracteres/str); por lo tanto, este valor puede ser almacenado en una variable.\n",
        "\n",
        "¡Probémoslo!"
      ]
    },
    {
      "cell_type": "code",
      "metadata": {
        "colab": {
          "base_uri": "https://localhost:8080/"
        },
        "id": "VCJ8JoedYXTh",
        "outputId": "ab9a2016-cb5a-40e5-b68f-8351bf9c9348"
      },
      "source": [
        "#Funcion que lee un valor desde teclado y lo retorna para almacenarlo en un variable\n",
        "nombre=input()\n",
        "print(\"Hola\",nombre)"
      ],
      "execution_count": null,
      "outputs": [
        {
          "output_type": "stream",
          "text": [
            "Brissa\n",
            "Hola Brissa\n"
          ],
          "name": "stdout"
        }
      ]
    },
    {
      "cell_type": "markdown",
      "metadata": {
        "id": "_9FFbt4TYtVZ"
      },
      "source": [
        "Aunque ya funciona un poco mejor, estaría bien que el usuario sepa que es lo que le estamos preguntando ¿No te parece? "
      ]
    },
    {
      "cell_type": "code",
      "metadata": {
        "colab": {
          "base_uri": "https://localhost:8080/"
        },
        "id": "a9wyePdPY9Wn",
        "outputId": "7bdc5a46-c3bb-4a39-e4cc-02f6b388bb4c"
      },
      "source": [
        "#Funcion que lee un valor desde teclado y lo retorna para almacenarlo en un variable mostrando un mensaje\n",
        "nombre=input(\"Digita tu nombre:\")\n",
        "print(\"Hola\",nombre)"
      ],
      "execution_count": null,
      "outputs": [
        {
          "output_type": "stream",
          "text": [
            "Digita tu nombre:Brissa\n",
            "Hola Brissa\n"
          ],
          "name": "stdout"
        }
      ]
    },
    {
      "cell_type": "markdown",
      "metadata": {
        "id": "Bf4802OXZX2q"
      },
      "source": [
        "## Ejercicio el Censo\n",
        "¿Recuerdas el formulario que solicitaba datos para el censo de 1871?\n",
        "<img height=\"800px\" src=\"https://drive.google.com/thumbnail?id=1ADb-xM4QFSBqgGyRgY381x_teiNkYVmq\" align=\"left\" hspace=\"5px\" vspace=\"0\n",
        "px\">\n",
        "\n",
        "<br>\n",
        "<br>\n",
        "<br>\n",
        "<br>\n",
        "<br>\n",
        "<br>\n",
        "<br>\n",
        "<br>\n",
        "<br>\n",
        "<br>\n",
        "<br>\n",
        "<br>\n",
        "<br>\n",
        "<br>\n",
        "<br>\n",
        "<br>\n",
        "<br>\n",
        "<br>\n",
        "<br>\n",
        "<br>\n",
        "<br>\n",
        "<br>\n",
        "<br>\n",
        "<br>\n",
        "<br>\n",
        "<br>\n",
        "<br>\n",
        "<br>\n",
        "<br>\n",
        "<br>\n",
        "<br>\n",
        "<br>\n",
        "<br>\n",
        "<br>\n",
        "<br>\n",
        "<br>\n",
        "<br>\n",
        "<br>\n",
        "\n",
        "\n",
        "\n",
        "Escribe en la siguiente celda, un programa que lea cada uno de estos datos y luego los imprima en pantalla.\n"
      ]
    },
    {
      "cell_type": "code",
      "metadata": {
        "id": "ffZwLA9gBFFo"
      },
      "source": [
        ""
      ],
      "execution_count": null,
      "outputs": []
    },
    {
      "cell_type": "code",
      "metadata": {
        "id": "aYU-WtYQckCv",
        "colab": {
          "base_uri": "https://localhost:8080/"
        },
        "outputId": "071eda94-67d6-48fc-9d58-867e1d4798aa"
      },
      "source": [
        "#Programa datos del censo\n",
        "#Escribe tu programa aqui\n",
        "nombre = input(\"Ingrese su nombre: \")\n",
        "fecha = input(\"Ingrese su fecha de nacimiento: \")\n",
        "edad = input(\"Ingrese su edad: \")\n",
        "ocupacion = input(\"Ingrese su ocupación: \")\n",
        "numCasa = input(\"Ingrese el número de su casa: \")\n",
        "dirCasa = input(\"Ingrese la dirección de su casa: \")\n",
        "ciudad = input(\"Ingrese la ciudad: \")\n",
        "numPersonas = input(\"Ingrese el número de personas que viven con usted: \")\n",
        "estCivil = input(\"Ingrese su estado civil: \")\n",
        "serFuerzasArmadas = input(\"Actualmente presta servicios en las Fuerzas Armadas: \")\n",
        "\n",
        "print(\"Censo 1871\")\n",
        "print(\"Nombre: \",nombre)\n",
        "print(\"Fecha de nacimiento\",fecha)\n",
        "print(\"Edad: \",edad)\n",
        "print(\"Ocupación: \",ocupacion)\n",
        "print(\"Número de casa: \",numCasa)\n",
        "print(\"Dirección de casa: \",dirCasa)\n",
        "print(\"Ciudad: \",ciudad)\n",
        "print(\"Número de personas que viven con usted: \",numPersonas)\n",
        "print(\"Estado civil: \",estCivil)\n",
        "print(\"Esta prestando servicio en las fuerzas armadas: \",serFuerzasArmadas)\n",
        "\n",
        "\n",
        "\n",
        "\n"
      ],
      "execution_count": null,
      "outputs": [
        {
          "output_type": "stream",
          "text": [
            "Ingrese su nombre: Reginald Elton\n",
            "Ingrese su fecha de nacimiento: 2/3/1833\n",
            "Ingrese su edad: 38\n",
            "Ingrese su ocupación: carpintero\n",
            "Ingrese el número de su casa: 221A\n",
            "Ingrese la dirección de su casa: Stables Meus\n",
            "Ingrese la ciudad: Chelsea\n",
            "Ingrese el número de personas que viven con usted: 3\n",
            "Ingrese su estado civil: Casado\n",
            "Actualmente presta servicios en las Fuerzas Armadas: No\n",
            "Censo 1871\n",
            "Nombre:  Reginald Elton\n",
            "Fecha de nacimiento 2/3/1833\n",
            "Edad:  38\n",
            "Ocupación:  carpintero\n",
            "Número de casa:  221A\n",
            "Dirección de casa:  Stables Meus\n",
            "Ciudad:  Chelsea\n",
            "Número de personas que viven con usted:  3\n",
            "Estado civil:  Casado\n",
            "Esta prestando servicio en las fuerzas armadas:  No\n"
          ],
          "name": "stdout"
        }
      ]
    },
    {
      "cell_type": "markdown",
      "metadata": {
        "id": "G3hz01WZc56i"
      },
      "source": [
        "<details>\n",
        "<summary>Dale a la flecha si necesitas una pista</summary>\n",
        "<pre><code>\n",
        "nombre=input()\n",
        "print(\"Tu nombre es:\",nombre)\n",
        "#igual para todos los campos del formulario en esta misma celda\n",
        "<code><pre>\n",
        "</details>"
      ]
    },
    {
      "cell_type": "markdown",
      "metadata": {
        "id": "VISoYoNMdaaS"
      },
      "source": [
        "##Instrucciones\n",
        "Dado que ya sabemos leer y escribir 😊, podemos hacer nuestro primer programa que haga un cálculo. Empezaremos con un fácil: ¡sumar dos números! Aquí tenemos el algoritmo\n",
        "\n",
        "---\n",
        "**Algoritmo:** Sumar dos números reales\n",
        "---\n",
        "1.   **leer** numero_uno\n",
        "2.   **leer** numero_dos\n",
        "3.   **calcular** $suma=numero\\_uno+numero\\_dos$ \n",
        "4.   **Retornar** suma\n",
        "---\n",
        "\n",
        "A continuación el programa. ¡Pruebalo sumando 10.5 con 22.3!"
      ]
    },
    {
      "cell_type": "code",
      "metadata": {
        "colab": {
          "base_uri": "https://localhost:8080/"
        },
        "id": "m2600umCgViD",
        "outputId": "33e2085e-0655-4624-9baf-27358265fb1a"
      },
      "source": [
        "'''\n",
        "Programa para sumar dos numeros reales\n",
        "Oscar Franco-Bedoya\n",
        "05/05/2021\n",
        "'''\n",
        "numero_uno=input(\"Digita el número uno para la suma:\")\n",
        "numero_dos=input(\"Digita el número  dos para la suma:\")\n",
        "suma=numero_uno+numero_dos\n",
        "print(\"La suma entre\", numero_uno, \"y\",numero_dos,\"es\",suma)"
      ],
      "execution_count": null,
      "outputs": [
        {
          "output_type": "stream",
          "text": [
            "Digita el número uno para la suma:10.5\n",
            "Digita el número  dos para la suma:22.3\n",
            "La suma entre 10.5 y 22.3 es 10.522.3\n"
          ],
          "name": "stdout"
        }
      ]
    },
    {
      "cell_type": "markdown",
      "metadata": {
        "id": "i1um2jnDiEpj"
      },
      "source": [
        "**¿Sorprendido con el resultado?**\n",
        "```\n",
        "La suma entre 10.5 y 22.3 es 10.522.3\n",
        "```\n",
        "**¿Identificas el problema?**\n",
        "\n",
        "**¿Que supones que pasó?**\n",
        "\n",
        "Como lo habíamos descrito antes en este laboratorio, la función ``input()`` retorna un tipo cadena de caracteres o texto, por lo tanto lo que parece estar haciendo el operador ``+`` no es sumar, aritmeticamente hablando, lo que hace es concatenar las dos cadenas.\n",
        "\n",
        "## Solución\n",
        "Afortunadamente Python nos ofrece una serie de funciones para trabajar con los tipos de una variable (¿recuerdas los elementos de una variable 1. nombre 2. valor 3. tipo?)\n",
        "por ejemplo\n",
        "```python\n",
        "type() #retorna el tipo de una variable\n",
        "```\n",
        "\n",
        "\n"
      ]
    },
    {
      "cell_type": "code",
      "metadata": {
        "colab": {
          "base_uri": "https://localhost:8080/"
        },
        "id": "85zogjZ0hVgy",
        "outputId": "4bd168e2-62fe-4942-d4e4-3e0255f5d2a0"
      },
      "source": [
        "#Probando la instrucciòn type()\n",
        "numero_uno=input(\"Digita el número uno para la suma:\")\n",
        "type(numero_uno)\n"
      ],
      "execution_count": null,
      "outputs": [
        {
          "output_type": "stream",
          "text": [
            "Digita el número uno para la suma:10.5\n"
          ],
          "name": "stdout"
        },
        {
          "output_type": "execute_result",
          "data": {
            "text/plain": [
              "str"
            ]
          },
          "metadata": {
            "tags": []
          },
          "execution_count": 10
        }
      ]
    },
    {
      "cell_type": "markdown",
      "metadata": {
        "id": "giFp77JBqipz"
      },
      "source": [
        "Elemental mi querido Watson, lo que se lee con ```input()```se retorna como ```str``` \n",
        "\n",
        "### Conversion de tipos\n",
        "Lo que necesitamos es una función que nos permita convertir cadenas str en números reales, esta función es:\n",
        "```python:\n",
        "float() #gracias Python\n",
        "```\n",
        "\n",
        "Veamos com funciona en nuestro programa"
      ]
    },
    {
      "cell_type": "code",
      "metadata": {
        "colab": {
          "base_uri": "https://localhost:8080/"
        },
        "id": "fmAFZ8SisFA2",
        "outputId": "8697addb-a2cf-445e-ff24-15087289d670"
      },
      "source": [
        "'''\n",
        "Programa para sumar dos numeros reales V2.0\n",
        "Oscar Franco-Bedoya\n",
        "05/05/2021\n",
        "'''\n",
        "numero_uno=input(\"Digita el número uno para la suma:\")\n",
        "numero_uno=float(numero_uno) #convierte el valor que tenia numero_uno a float y lo almacena en la misma variable que cambia de tipo ¿Recuerdas como se llama esto?\n",
        "numero_dos=input(\"Digita el número  dos para la suma:\")\n",
        "numero_dos=float(numero_dos) #convierte el valor que tenia numero_dos a float y lo almacena en la misma variable que cambia de tipo ¿Recuerdas como se llama esto?\n",
        "suma=numero_uno+numero_dos\n",
        "print(\"La suma entre\", numero_uno, \"y\",numero_dos,\"es\",suma)"
      ],
      "execution_count": null,
      "outputs": [
        {
          "output_type": "stream",
          "text": [
            "Digita el número uno para la suma:10.5\n",
            "Digita el número  dos para la suma:22.3\n",
            "La suma entre 10.5 y 22.3 es 32.8\n"
          ],
          "name": "stdout"
        }
      ]
    },
    {
      "cell_type": "markdown",
      "metadata": {
        "id": "jryU1giYssfI"
      },
      "source": [
        "Muy bien, ahora si tenemos nuestro programa funcionando correctamente\n",
        "** Podemos mejorarlo **\n",
        "Dado que una función como input() retorna un valor, esta puede ser llamada como parámetro de entrada a otra función, en particular, la función float()\n",
        "```python:\n",
        "float(input()) #Convierte el valor str retornado por input() a float\n",
        "```\n",
        "La versiòn 3 del programa será entonces:"
      ]
    },
    {
      "cell_type": "code",
      "metadata": {
        "colab": {
          "base_uri": "https://localhost:8080/"
        },
        "id": "MgWnSuI7tcxY",
        "outputId": "11a97fb5-7d45-47e1-fb2c-bf767ca2caef"
      },
      "source": [
        "'''\n",
        "Programa para sumar dos numeros reales V3.0\n",
        "Oscar Franco-Bedoya\n",
        "05/05/2021\n",
        "'''\n",
        "numero_uno=float(input(\"Digita el número uno para la suma:\"))\n",
        "numero_dos=float(input(\"Digita el número  dos para la suma:\"))\n",
        "suma=numero_uno+numero_dos\n",
        "print(\"La suma entre\", numero_uno, \"y\",numero_dos,\"es\",suma)"
      ],
      "execution_count": null,
      "outputs": [
        {
          "output_type": "stream",
          "text": [
            "Digita el número uno para la suma:10.5\n",
            "Digita el número  dos para la suma:22.3\n",
            "La suma entre 10.5 y 22.3 es 32.8\n"
          ],
          "name": "stdout"
        }
      ]
    },
    {
      "cell_type": "markdown",
      "metadata": {
        "id": "FdNdHOCEwVOz"
      },
      "source": [
        "por analogía, si necesitaramos convertir no a float sino a int sería: \n",
        "```python:\n",
        "int(input()) #Convierte el valor str retornado por input() a float\n",
        "```\n"
      ]
    },
    {
      "cell_type": "markdown",
      "metadata": {
        "id": "m8K7PrF4uQav"
      },
      "source": [
        "#Ejercicio\n",
        "Para la versión 4 de nuestro programa modifiquémoslo para que realice las 4 operaciones aritméticas y la potencia/exponenciación"
      ]
    },
    {
      "cell_type": "code",
      "metadata": {
        "id": "SAfnsPfhuwDu",
        "colab": {
          "base_uri": "https://localhost:8080/"
        },
        "outputId": "03bca096-3df8-4dee-fd41-e44d7dcd290e"
      },
      "source": [
        "'''\n",
        "Programa para realiza las 4 operaciones aritméticas y  eleva a la potencia para dos numeros reales V4.0\n",
        "Oscar Franco-Bedoya\n",
        "05/05/2021\n",
        "'''\n",
        "numero_uno=float(input(\"Digita el número uno:\"))\n",
        "numero_dos=float(input(\"Digita el número dos:\"))\n",
        "suma = numero_uno+numero_dos\n",
        "resta = numero_uno-numero_dos\n",
        "multiplicacion = numero_uno*numero_dos\n",
        "division = numero_uno/numero_dos\n",
        "potencia1 = numero_uno**numero_dos\n",
        "potencia2 = numero_dos**numero_uno\n",
        "\n",
        "print(\"La suma entre\", numero_uno, \"y\",numero_dos,\"es\",suma)\n",
        "print(\"La resta entre\", numero_uno, \"y\",numero_dos,\"es\",resta)\n",
        "print(\"La multiplicación entre\", numero_uno, \"y\",numero_dos,\"es\",multiplicacion)\n",
        "print(\"La divison entre\", numero_uno, \"y\",numero_dos,\"es\",division)\n",
        "print(\"La elevación de la potencia de: \", numero_uno, \"es\",potencia1)\n",
        "print(\"La elevación de la potencia de: \", numero_dos, \"es\",potencia2)\n"
      ],
      "execution_count": null,
      "outputs": [
        {
          "output_type": "stream",
          "text": [
            "Digita el número uno:5\n",
            "Digita el número dos:4\n",
            "La suma entre 5.0 y 4.0 es 9.0\n",
            "La resta entre 5.0 y 4.0 es 1.0\n",
            "La multiplicación entre 5.0 y 4.0 es 20.0\n",
            "La divison entre 5.0 y 4.0 es 1.25\n",
            "La elevación de la potencia de:  5.0 es 625.0\n",
            "La elevación de la potencia de:  4.0 es 1024.0\n"
          ],
          "name": "stdout"
        }
      ]
    },
    {
      "cell_type": "markdown",
      "metadata": {
        "id": "-sUVMJ7OcFnC"
      },
      "source": [
        "---\n",
        "FINAL DEL LABORATORIO\n",
        "\n",
        "___"
      ]
    }
  ]
}