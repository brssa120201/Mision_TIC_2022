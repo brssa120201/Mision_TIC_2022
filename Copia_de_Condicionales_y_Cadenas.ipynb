{
  "nbformat": 4,
  "nbformat_minor": 0,
  "metadata": {
    "colab": {
      "name": "Copia de Condicionales y Cadenas.ipynb",
      "provenance": [],
      "collapsed_sections": [
        "QsYMoJW077iQ"
      ],
      "include_colab_link": true
    },
    "kernelspec": {
      "name": "python3",
      "display_name": "Python 3"
    },
    "language_info": {
      "name": "python"
    }
  },
  "cells": [
    {
      "cell_type": "markdown",
      "metadata": {
        "id": "view-in-github",
        "colab_type": "text"
      },
      "source": [
        "<a href=\"https://colab.research.google.com/github/brssa120201/Mision_TIC_2022/blob/main/Copia_de_Condicionales_y_Cadenas.ipynb\" target=\"_parent\"><img src=\"https://colab.research.google.com/assets/colab-badge.svg\" alt=\"Open In Colab\"/></a>"
      ]
    },
    {
      "cell_type": "markdown",
      "metadata": {
        "id": "g3oLx2CC4QSH"
      },
      "source": [
        "# Laboratorio 3.2\n",
        "\n",
        "*Elaborado por Oscar Franco-Bedoya*\n",
        "\n",
        "*`Proyecto Mision TIC 2021*\n",
        "\n",
        "\n",
        "## Objetivo\n",
        "Implementar programas aplicando el concepto de control de flujo condicional en  ejemplos básicos\n",
        "\n",
        "## Dime lo que lees\n",
        "La editorial `oveja negra` desea una aplicación que les permita  verificar si el título de un libro esta bien escrito, es decir cada palabra inicia con mayúsculas.\n"
      ]
    },
    {
      "cell_type": "code",
      "metadata": {
        "id": "bfJ7Qm4E2XoC",
        "colab": {
          "base_uri": "https://localhost:8080/"
        },
        "outputId": "c0fa9850-61f9-400a-e871-d13588f07e5e"
      },
      "source": [
        "\"\"\" Laboratorio 3.2 Dime lo que lees \n",
        "    Oscar Franco-Bedoya\n",
        "    Mayo 10-2021 \n",
        "\"\"\"\n",
        "\n",
        "\n",
        "# Definición de Funciones (Dividir)\n",
        "def verificar_titulo(titulo_libro):\n",
        "  \"\"\" \n",
        "  Parameters\n",
        "  ----------\n",
        "  titulo_libro:str\n",
        "     una cadena con el titulo de un libro\n",
        "  -------\n",
        "  Return\n",
        "  -------\n",
        "     valido :bool\n",
        "         retorna verdadero si el titulo esta bien escrito   \n",
        "  \"\"\"  \n",
        " \n",
        "  if titulo_libro.istitle():\n",
        "    print(titulo_libro, \"- Muy bien escrito!\")\n",
        "    return True\n",
        "  else:\n",
        "    print(titulo_libro, \"- Los títulos de libros van con mayusculas\")\n",
        "    return False\n",
        "\n",
        "\n",
        "#======================================================================\n",
        "#   Algoritmo principal Punto de entrada a la aplicación (Conquistar)\n",
        "# =====================================================================\n",
        "\n",
        "#lectura título del Libro\n",
        "libro_favorito = input(\"¿Cual es tu libro favorito?: \")\n",
        "verificar_titulo(libro_favorito)\n",
        "\n"
      ],
      "execution_count": null,
      "outputs": [
        {
          "output_type": "stream",
          "text": [
            "¿Cual es tu libro favorito?: Juego de Tronos\n",
            "Juego de Tronos - Los títulos de libros van con mayusculas\n"
          ],
          "name": "stdout"
        },
        {
          "output_type": "execute_result",
          "data": {
            "text/plain": [
              "False"
            ]
          },
          "metadata": {
            "tags": []
          },
          "execution_count": 11
        }
      ]
    },
    {
      "cell_type": "markdown",
      "metadata": {
        "id": "QsYMoJW077iQ"
      },
      "source": [
        "## Dame un numero\n",
        "Una terminación muy abrupta de un programa que es además muy común es que cuando se pide un numero a un usuario y este digita caracteres no válidos como letras, por ejemplo, se interrumpe la ejecución del programa mostrando errores incomprensibles para el usuario común. Vamos a implementar una función que valida si una cadena ingresada es o no un número entero.  "
      ]
    },
    {
      "cell_type": "code",
      "metadata": {
        "id": "YbfknfX474RK",
        "colab": {
          "base_uri": "https://localhost:8080/"
        },
        "outputId": "449839c9-3bdc-4c42-e1be-5a544003cec8"
      },
      "source": [
        "\"\"\" Laboratorio 3.2 Dame un número \n",
        "    Oscar Franco-Bedoya\n",
        "    Mayo 10-2021 \n",
        "\"\"\"\n",
        "\n",
        "\n",
        "# Definición de Funciones (Dividir)\n",
        "def validar_es_entero(numero):\n",
        "  \"\"\" \n",
        "  Parameters\n",
        "  ----------\n",
        "  numero:str\n",
        "     una cadena \n",
        "  -------\n",
        "  Return\n",
        "  -------\n",
        "     valido :bool\n",
        "         retorna verdadero si la cadena tiene un numero entero válido   \n",
        "  \"\"\"  \n",
        "  if numero.isdigit():\n",
        "    print(numero, \"Digitaste un entero positivo\")\n",
        "  elif numero[0]==\"-\":\n",
        "    print(numero, \"Digitaste un entero negativo\")\n",
        "  else:\n",
        "    print(numero, \"Parece ser una palabra no un numero\")\n",
        "\n",
        "#======================================================================\n",
        "#   Algoritmo principal Punto de entrada a la aplicación (Conquistar)\n",
        "# =====================================================================\n",
        "\n",
        "#lectura del número entero\n",
        "numero_entero = input(\"Ingresa un numero entero: \")\n",
        "validar_es_entero(numero_entero)"
      ],
      "execution_count": null,
      "outputs": [
        {
          "output_type": "stream",
          "text": [
            "Ingresa un numero entero: 874682\n",
            "874682 Digitaste un entero positivo\n"
          ],
          "name": "stdout"
        }
      ]
    },
    {
      "cell_type": "markdown",
      "metadata": {
        "id": "OMtQ5zNhGvxG"
      },
      "source": [
        "## Cual es el error\n",
        "Este programa no funciona, ¿Sabes porque?"
      ]
    },
    {
      "cell_type": "code",
      "metadata": {
        "id": "z3JdPzTSG3G6"
      },
      "source": [
        "x = 5 # le asigna 5 a la variable \n",
        "\n",
        "if x = 5: # Compara si x es 5\n",
        "    print('Efectivamente x es igual a 5')\n"
      ],
      "execution_count": null,
      "outputs": []
    },
    {
      "cell_type": "markdown",
      "metadata": {
        "id": "LYWvSftMHrWW"
      },
      "source": [
        "## Soy humano\n",
        "Una estrategia para verificar que sea realmente una persona la que está entrando a una aplicación es que digite un mensaje predefinido para que la aplicación lo valide.\n",
        "Eso es lo que hace la siguiente función\n"
      ]
    },
    {
      "cell_type": "code",
      "metadata": {
        "id": "4Arz8hCTIZ0L",
        "colab": {
          "base_uri": "https://localhost:8080/"
        },
        "outputId": "7f441ea9-46da-4c9c-8a26-2cae6ac83084"
      },
      "source": [
        "\"\"\" Laboratorio 3.2 Soy humano \n",
        "    Oscar Franco-Bedoya\n",
        "    Mayo 10-2021 \n",
        "\"\"\"\n",
        "MENSAJE = \"EL CIELO ES AZUL\"\n",
        "\n",
        "# Definición de Funciones (Dividir)\n",
        "def validar_es_humano():\n",
        "  \"\"\" \n",
        "  Return\n",
        "  -------\n",
        "     valido :bool\n",
        "         retorna verdadero si la cadena ingresada correspondecon el mensaje  \n",
        "  \"\"\"  \n",
        "  msg= input(\"Digita \"+MENSAJE+\":\")\n",
        "  if msg.upper() == MENSAJE:   # Convierte la cadena digitada a mayúsculas\n",
        "    print(\"Pareces human@\")\n",
        "    return True\n",
        "  else:\n",
        "    print(\"No es lo que esperaba\")\n",
        "    return False\n",
        "\n",
        "#======================================================================\n",
        "#   Algoritmo principal Punto de entrada a la aplicación (Conquistar)\n",
        "# =====================================================================\n",
        "validar_es_humano()"
      ],
      "execution_count": null,
      "outputs": [
        {
          "output_type": "stream",
          "text": [
            "Digita EL CIELO ES AZUL:EL CIELO ES AZUL\n",
            "Pareces human@\n"
          ],
          "name": "stdout"
        },
        {
          "output_type": "execute_result",
          "data": {
            "text/plain": [
              "True"
            ]
          },
          "metadata": {
            "tags": []
          },
          "execution_count": 10
        }
      ]
    },
    {
      "cell_type": "markdown",
      "metadata": {
        "id": "BnmL8dxYKPE9"
      },
      "source": [
        "## Probando suerte\n",
        "\n",
        "Vamos a hacer nuestro segundo videojuego, después del de los dados, vamos a hacer un programa que genere un numero aleatorio entre 1 y 10 para ver si el usuario  lo puede adivinar."
      ]
    },
    {
      "cell_type": "code",
      "metadata": {
        "id": "t67814f6PHdJ",
        "colab": {
          "base_uri": "https://localhost:8080/"
        },
        "outputId": "704749e5-9dcd-4c4b-ca15-0942e34181d2"
      },
      "source": [
        "\"\"\" Laboratorio 3.2 Dime lo que lees \n",
        "    Oscar Franco-Bedoya\n",
        "    Mayo 10-2021 \n",
        "\"\"\"\n",
        "# importar módulos\n",
        "import random as r\n",
        "# TODO: 1) importar la libreria que tiene la función para generar números aleatorios\n",
        "print(\"ADIVINA EL NÚMERO! \\n\")\n",
        "# Definición de Funciones (Dividir)\n",
        "def probar_suerte():\n",
        "  \"\"\" \n",
        "  Parameters\n",
        "  ----------\n",
        "  numero:int\n",
        "     un numero entero\n",
        "  -------\n",
        "  Return\n",
        "  -------\n",
        "     valido :bool\n",
        "         retorna verdadero si adivina el número   \n",
        "  \"\"\"\n",
        "  #Definir variable para encontrar el número y que sea falso\n",
        "  numero_encontrado = False\n",
        "  #Definir el generador aleatorio\n",
        "  aleatorio = r.randint(1,10)\n",
        "  #Ciclo: Mientras que no se cumpla numero_encontrado \n",
        "  while not numero_encontrado:\n",
        "    numero = int(input(\"Escribe un número entre 1 y 10:\"))\n",
        "    if numero == aleatorio:\n",
        "      print(\"Adivinaste el número\\n\")\n",
        "    elif numero < aleatorio:\n",
        "      print(\"El número es más grande, intenta de nuevo\\n\")\n",
        "    else:\n",
        "      print(\"El número es más pequeño, intenta de nuevo\\n\")\n",
        "\n",
        "#======================================================================\n",
        "#   Algoritmo principal Punto de entrada a la aplicación (Conquistar)\n",
        "# =====================================================================\n",
        "#TODO: 3)\n",
        "probar_suerte()\n"
      ],
      "execution_count": null,
      "outputs": [
        {
          "output_type": "stream",
          "text": [
            "ADIVINA EL NÚMERO! \n",
            "\n",
            "El número es más grande, intenta de nuevo\n",
            "\n",
            "El número es más grande, intenta de nuevo\n",
            "\n",
            "El número es más grande, intenta de nuevo\n",
            "\n",
            "El número es más grande, intenta de nuevo\n",
            "\n",
            "Adivinaste el número\n",
            "\n"
          ],
          "name": "stdout"
        }
      ]
    },
    {
      "cell_type": "markdown",
      "metadata": {
        "id": "llDMnMkMQoxm"
      },
      "source": [
        "<details>\n",
        "<summary>Dale a la flecha si necesitas una pista</summary>\n",
        "<pre><code>\n",
        "1) Es la misma que usaste para el ejercicio de los dados\n",
        "2) ¿que tal un algoritmo antes?\n",
        "    . obtener el nuumero aleatorio\n",
        "    . verificar si es igual al entrado\n",
        " 3) Un mensaje de error estaría bien   \n",
        "<code><pre>\n",
        "</details>"
      ]
    },
    {
      "cell_type": "markdown",
      "metadata": {
        "id": "b5VFyrfRfi4J"
      },
      "source": [
        "# Gordo, ¿Quien yo? Si tu\n",
        "El índice de masa corporal **(IMC)** que calculamos es un índice muy importante para diagnosticar el sobre peso, sin embargo el valor en si mismo debe ser interpretado de acuerdo a la tabla tomada de este sitio [IMC](https://cuidateplus.marca.com/alimentacion/diccionario/indice-masa-corporal-imc.html)\n",
        "\n",
        "\n",
        "| Rango IMC |Diagnóstico paciente | \n",
        "| :---: | :---: | \n",
        "| 15 o menos | Delgadez muy severa |\n",
        "| 15 a 15.9 | Delgadez severa |\n",
        "| 16 a 18.4 | Delgadez |\n",
        "| 18.5 a 24.9 | Peso saludable |\n",
        "| 25 a 29.9 | Sobrepeso |\n",
        "| 30 a 34.9 | Obesidad moderada |\n",
        "| 35 a 39.9 | Obesidad severa |\n",
        "| 40 0 mas | Obesidad muy severa (mórbida) |\n",
        "\n",
        "\n",
        "\n"
      ]
    },
    {
      "cell_type": "code",
      "metadata": {
        "id": "oUZVTyVBi3VJ",
        "colab": {
          "base_uri": "https://localhost:8080/"
        },
        "outputId": "c0adfecd-e2bc-473d-9b97-b1f150c9084d"
      },
      "source": [
        "\"\"\" Laboratorio 3.2 IMC con diagnóstico \n",
        "    Oscar Franco-Bedoya\n",
        "    Mayo 10-2021 \n",
        "\"\"\"\n",
        "peso = float(input(\"Ingrese su peso: \"))\n",
        "altura = float(input(\"Ingrese su altura: \"))\n",
        "# Definición de Funciones (Dividir)\n",
        "def masa_corporal():\n",
        "#TODO: 1) Copiar la función que calcula el IMC\n",
        "  imc = peso/altura\n",
        "#TODO: 2) Definir la funcion que diagnostica al paciente\n",
        "  if imc <= 15:\n",
        "    print(\"Delgadez muy severa\")\n",
        "  elif imc > 15 <= 15.9:\n",
        "    print(\"Delgadez severa\")\n",
        "  elif imc >= 16 <= 18.4:\n",
        "    print(\"Delgadez\")\n",
        "  elif imc >= 18.5 <= 24.9:\n",
        "    print(\"Peso saludable\")\n",
        "  elif imc >= 25 <= 29.9:\n",
        "    print(\"Sobrepeso\")\n",
        "  elif imc >= 30 <= 34.9:\n",
        "    print(\"Obesidad Moderada\")\n",
        "  elif imc >= 35 <= 39.9:\n",
        "    print(\"Obesidad Severa\")\n",
        "  elif imc >= 40:\n",
        "    print(\"Obesidad \")\n",
        "  else:\n",
        "    print(\"Hubo un error, intente nuevamente\")\n",
        "    \n",
        "#======================================================================\n",
        "#   Algoritmo principal Punto de entrada a la aplicación (Conquistar)\n",
        "# =====================================================================\n",
        "#TODO: 3)\n",
        "masa_corporal()"
      ],
      "execution_count": null,
      "outputs": [
        {
          "output_type": "stream",
          "text": [
            "Ingrese su peso: 60\n",
            "Ingrese su altura: 1.61\n",
            "Delgadez severa\n"
          ],
          "name": "stdout"
        }
      ]
    },
    {
      "cell_type": "markdown",
      "metadata": {
        "id": "_nIjVMRrjFz0"
      },
      "source": [
        "<details>\n",
        "<summary>Dale a la flecha si necesitas una pista</summary>\n",
        "<pre><code>\n",
        "1)  ctrl-c ctrl-v ;-)\n",
        "2) que tal si la defines como def diagnoisticar_imc(valor_imc)\n",
        "3) invoca ambas funciones correctamente \n",
        "\n",
        "<code><pre>\n",
        "</details>\n",
        "\n",
        "---\n",
        "\n",
        "FINAL DEL LABORATORIO\n",
        "\n",
        "---"
      ]
    }
  ]
}