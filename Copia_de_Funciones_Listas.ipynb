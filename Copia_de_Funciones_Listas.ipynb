{
  "nbformat": 4,
  "nbformat_minor": 0,
  "metadata": {
    "colab": {
      "name": "Copia de Funciones Listas.ipynb",
      "provenance": [],
      "collapsed_sections": [],
      "include_colab_link": true
    },
    "kernelspec": {
      "name": "python3",
      "display_name": "Python 3"
    },
    "language_info": {
      "name": "python"
    }
  },
  "cells": [
    {
      "cell_type": "markdown",
      "metadata": {
        "id": "view-in-github",
        "colab_type": "text"
      },
      "source": [
        "<a href=\"https://colab.research.google.com/github/brssa120201/Mision_TIC_2022/blob/main/Copia_de_Funciones_Listas.ipynb\" target=\"_parent\"><img src=\"https://colab.research.google.com/assets/colab-badge.svg\" alt=\"Open In Colab\"/></a>"
      ]
    },
    {
      "cell_type": "markdown",
      "metadata": {
        "id": "7DHKiOy2DTYx"
      },
      "source": [
        "# Laboratorio 4.2\n",
        "Elaborado por Oscar Franco-Bedoya\n",
        "\n",
        "`Proyecto Mision TIC 2021\n",
        "\n",
        "# Objetivo\n",
        "Una de las ventajas de Python es la gran cantidad de librerías (componentes) que tiene para el manejo de muchos dominios, por ejemplo: visualización, inteligencia artificial, machine Learning, estadística entre otros. \n",
        "\n",
        "En este laboratorio vamos a practicar las funciones más utilizadas para el manejo de listas, sin embargo no olviden que en la web encuentras mucha más información al respecto. [Listas en Python](https://docs.python.org/3/tutorial/datastructures.html)\n",
        "\n",
        "# Contexto\n",
        "Para no trabajar de manera *fría y vacía* (como canción de Héctor Lavoe) con las listas, vamos a trabajar un contexto típico. Una lista de estudiantes y sus notas definitivas. (*Super original*)\n",
        "\n",
        "Un detalle adicional, para no manejar solo las notas, tendremos una lista de nombres de los estudiantes.\n"
      ]
    },
    {
      "cell_type": "code",
      "metadata": {
        "colab": {
          "base_uri": "https://localhost:8080/"
        },
        "id": "Agyvfk67wP-x",
        "outputId": "992b42c8-8d5d-43e9-94ba-361d5af2fb74"
      },
      "source": [
        "\"\"\"\n",
        "---------------------------------\n",
        "  Definición de las listas\n",
        "---------------------------------\n",
        "\"\"\"\n",
        "notas_definitivas=[3.2,4.0,5.0,1.2,0.0,3.3,2.95,4.1,2.5,3.6]\n",
        "nombre_estudiantes=[\"Sid\",\"Woody\",\"Andy\",\"Little Bo\",\"Buzz\",\"Jessie\",\"Slinky\",\"Mr. Potato\",\"Emily\",\"Barbie\"]\n",
        "\n",
        "\"\"\"\n",
        "---------------------------------\n",
        "  Numero de elementos de las listas\n",
        "---------------------------------\n",
        "\"\"\"\n",
        "print(len(notas_definitivas))\n",
        "print(len(nombre_estudiantes))\n",
        "\n",
        "\n",
        "\"\"\"\n",
        "---------------------------------\n",
        "  Listar los elementos de las listas\n",
        "---------------------------------\n",
        "\"\"\"\n",
        "print(notas_definitivas)\n",
        "print(nombre_estudiantes)"
      ],
      "execution_count": 1,
      "outputs": [
        {
          "output_type": "stream",
          "text": [
            "10\n",
            "10\n",
            "[3.2, 4.0, 5.0, 1.2, 0.0, 3.3, 2.95, 4.1, 2.5, 3.6]\n",
            "['Sid', 'Woody', 'Andy', 'Little Bo', 'Buzz', 'Jessie', 'Slinky', 'Mr. Potato', 'Emily', 'Barbie']\n"
          ],
          "name": "stdout"
        }
      ]
    },
    {
      "cell_type": "markdown",
      "metadata": {
        "id": "RMtDFjoANb8L"
      },
      "source": [
        "# Adicionando elementos a la lista\n",
        "## Append\n",
        "*  Vamos a adicionar un nuevo estudiante al final de la lista y su respectiva nota.\n",
        "\n",
        "\n",
        "\n"
      ]
    },
    {
      "cell_type": "code",
      "metadata": {
        "colab": {
          "base_uri": "https://localhost:8080/"
        },
        "id": "29rf1SXEON1f",
        "outputId": "df1c53ba-bbc8-46bb-fdda-dd0855ef0d56"
      },
      "source": [
        "\"\"\"\n",
        "---------------------------------\n",
        "  Definición de las listas\n",
        "---------------------------------\n",
        "\"\"\"\n",
        "notas_definitivas=[3.2,4.0,5.0,1.2,0.0,3.3,2.95,4.1,2.5,3.6]\n",
        "nombre_estudiantes=[\"Sid\",\"Woody\",\"Andy\",\"Little Bo\",\"Buzz\",\"Jessie\",\"Slinky\",\"Mr. Potato\",\"Emily\",\"Barbie\"]\n",
        "\n",
        "\"\"\"\n",
        "---------------------------------\n",
        "  Adicionar un elemento al final de las listas\n",
        "---------------------------------\n",
        "\"\"\"\n",
        "nombre_estudiantes.append(\"Daisy\")\n",
        "notas_definitivas.append(3.1)\n",
        "\n",
        "print(notas_definitivas)\n",
        "print(nombre_estudiantes)"
      ],
      "execution_count": 2,
      "outputs": [
        {
          "output_type": "stream",
          "text": [
            "[3.2, 4.0, 5.0, 1.2, 0.0, 3.3, 2.95, 4.1, 2.5, 3.6, 3.1]\n",
            "['Sid', 'Woody', 'Andy', 'Little Bo', 'Buzz', 'Jessie', 'Slinky', 'Mr. Potato', 'Emily', 'Barbie', 'Daisy']\n"
          ],
          "name": "stdout"
        }
      ]
    },
    {
      "cell_type": "markdown",
      "metadata": {
        "id": "Av_iIAgowQ6B"
      },
      "source": [
        "## Extends\n",
        "\n",
        "\n",
        "*   Tambien es posible adicionar un conjunto de elementos a una lista"
      ]
    },
    {
      "cell_type": "code",
      "metadata": {
        "colab": {
          "base_uri": "https://localhost:8080/"
        },
        "id": "GR67a4hvQ0kT",
        "outputId": "39fd5928-7b55-4bfa-931f-d041abe4b04d"
      },
      "source": [
        "\"\"\"\n",
        "---------------------------------\n",
        "  Definición de las listas\n",
        "---------------------------------\n",
        "\"\"\"\n",
        "notas_definitivas=[3.2,4.0,5.0,1.2,0.0,3.3,2.95,4.1,2.5,3.6]\n",
        "nombre_estudiantes=[\"Sid\",\"Woody\",\"Andy\",\"Little Bo\",\"Buzz\",\"Jessie\",\"Slinky\",\"Mr. Potato\",\"Emily\",\"Barbie\"]\n",
        "\n",
        "\n",
        "\"\"\"\n",
        "---------------------------------\n",
        "  Adicionar varios elementos al final de las listas\n",
        "---------------------------------\n",
        "\"\"\"\n",
        "nombre_estudiantes.extend([\"Daisy\",\"Wheezy\"])\n",
        "notas_definitivas.extend([2.5,3.3])\n",
        "\n",
        "print(notas_definitivas)\n",
        "print(nombre_estudiantes)\n"
      ],
      "execution_count": 3,
      "outputs": [
        {
          "output_type": "stream",
          "text": [
            "[3.2, 4.0, 5.0, 1.2, 0.0, 3.3, 2.95, 4.1, 2.5, 3.6, 2.5, 3.3]\n",
            "['Sid', 'Woody', 'Andy', 'Little Bo', 'Buzz', 'Jessie', 'Slinky', 'Mr. Potato', 'Emily', 'Barbie', 'Daisy', 'Wheezy']\n"
          ],
          "name": "stdout"
        }
      ]
    },
    {
      "cell_type": "markdown",
      "metadata": {
        "id": "KQw8Pbcqtpgh"
      },
      "source": [
        ""
      ]
    },
    {
      "cell_type": "markdown",
      "metadata": {
        "id": "cEW_-JhzR7X6"
      },
      "source": [
        "## Insert\n",
        "*  No solo es posible adicionar elementos al final de la lista, tabien lo podemos hacer en una posición dada. "
      ]
    },
    {
      "cell_type": "code",
      "metadata": {
        "colab": {
          "base_uri": "https://localhost:8080/"
        },
        "id": "cpjX_m40Sdpx",
        "outputId": "383de6cf-9907-498c-a6c4-dfcc4fd96a5b"
      },
      "source": [
        "\"\"\"\n",
        "---------------------------------\n",
        "  Definición de las listas\n",
        "---------------------------------\n",
        "\"\"\"\n",
        "notas_definitivas=[3.2,4.0,5.0,1.2,0.0,3.3,2.95,4.1,2.5,3.6]\n",
        "nombre_estudiantes=[\"Sid\",\"Woody\",\"Andy\",\"Little Bo\",\"Buzz\",\"Jessie\",\"Slinky\",\"Mr. Potato\",\"Emily\",\"Barbie\"]\n",
        "\n",
        "\"\"\"\n",
        "---------------------------------\n",
        "  Adicionar un elemento en una posición específica\n",
        "---------------------------------\n",
        "\"\"\"\n",
        "nombre_estudiantes.insert(2,\"Rejean\")\n",
        "notas_definitivas.insert(2,0.0)\n",
        "\n",
        "print(notas_definitivas)\n",
        "print(nombre_estudiantes)\n"
      ],
      "execution_count": 4,
      "outputs": [
        {
          "output_type": "stream",
          "text": [
            "[3.2, 4.0, 0.0, 5.0, 1.2, 0.0, 3.3, 2.95, 4.1, 2.5, 3.6]\n",
            "['Sid', 'Woody', 'Rejean', 'Andy', 'Little Bo', 'Buzz', 'Jessie', 'Slinky', 'Mr. Potato', 'Emily', 'Barbie']\n"
          ],
          "name": "stdout"
        }
      ]
    },
    {
      "cell_type": "markdown",
      "metadata": {
        "id": "3Va7rp7FTSEI"
      },
      "source": [
        "# Eliminando elementos de la lista\n",
        "Podemos eliminar un elemento de la lista dado su valor, simplemente con llamar, la función remove(elemento) que eliminará solamente la primera aparición del elemento en la lista (ya que puede estar repetido)\n",
        "\n",
        "\n",
        "\n",
        "```\n",
        "nombre_estudiantes.remove(\"Daisy\")\n",
        "# Elimina la primera aparición de Daisy en la lista\n",
        "```\n",
        "**Importante**\n",
        "\n",
        "Para este ejercicio estamos manejando dos listas cuyos elementos coinciden uno a uno, es decir si eliminamos a Daisy debemos eliminar su nota que es 3.1, y no se puede utilizar remove ya que esta borraría la primera nota con un valor de 3.1 sin importar de quien es.\n",
        "\n",
        "*¿Entiendes el problema?*\n",
        "\n",
        "Afortunadamente tenemos una función que elimina un elemento dada su posición y antes de que pegunten también una que retorna la posición de un elemento.\n",
        "\n",
        "\n",
        "\n"
      ]
    },
    {
      "cell_type": "code",
      "metadata": {
        "colab": {
          "base_uri": "https://localhost:8080/"
        },
        "id": "hLw9DkVHVyNw",
        "outputId": "a1a7a5bd-952e-4e6f-8fee-8d441908cb41"
      },
      "source": [
        "\"\"\"\n",
        "---------------------------------\n",
        "  Definición de las listas\n",
        "---------------------------------\n",
        "\"\"\"\n",
        "notas_definitivas=[3.2, 4.0, 0.0, 5.0, 1.2, 0.0, 3.3, 2.95, 4.1, 2.5, 3.6]\n",
        "nombre_estudiantes=['Sid', 'Woody', 'Rejean', 'Andy', 'Little Bo', 'Buzz', 'Jessie', 'Slinky', 'Mr. Potato', 'Emily', 'Barbie']\n",
        "\n",
        "\n",
        "\"\"\"\n",
        "---------------------------------\n",
        "  Eliminar  un elemento de la lista\n",
        "  ---------------------------------\n",
        "\"\"\"\n",
        "\n",
        "# Antes de eliminar a Daisy debemos saber su posición\n",
        "pos_elemento=nombre_estudiantes.index(\"Sid\") \n",
        "print(pos_elemento)\n",
        "\n",
        "# Ahora la eliminamos por su nombre\n",
        "nombre_estudiantes.remove(\"Sid\") \n",
        "\n",
        "print(nombre_estudiantes)\n",
        "\n",
        "# Ahora la eliminamos su nota de la lista de notas, dada su posición\n",
        "notas_definitivas.pop(pos_elemento) \n",
        "\n",
        "print(notas_definitivas)\n",
        "\n",
        "\n",
        "\n"
      ],
      "execution_count": 5,
      "outputs": [
        {
          "output_type": "stream",
          "text": [
            "0\n",
            "['Woody', 'Rejean', 'Andy', 'Little Bo', 'Buzz', 'Jessie', 'Slinky', 'Mr. Potato', 'Emily', 'Barbie']\n",
            "[4.0, 0.0, 5.0, 1.2, 0.0, 3.3, 2.95, 4.1, 2.5, 3.6]\n"
          ],
          "name": "stdout"
        }
      ]
    },
    {
      "cell_type": "markdown",
      "metadata": {
        "id": "fWqaq-I9Yjx4"
      },
      "source": [
        "# Invertir elementos de la lista\n",
        "Invierte el orden en que se encuentran los elementos en la lista\n"
      ]
    },
    {
      "cell_type": "code",
      "metadata": {
        "colab": {
          "base_uri": "https://localhost:8080/"
        },
        "id": "RB7OsScJYyCM",
        "outputId": "266fdaba-373d-44f9-9ba2-a75f4616fa58"
      },
      "source": [
        "print(notas_definitivas)\n",
        "print(nombre_estudiantes)\n",
        "\n",
        "notas_definitivas.reverse()\n",
        "nombre_estudiantes.reverse()\n",
        "print(\"----------------------------------------------------------------------\")\n",
        "print(notas_definitivas)\n",
        "print(nombre_estudiantes)"
      ],
      "execution_count": 6,
      "outputs": [
        {
          "output_type": "stream",
          "text": [
            "[4.0, 0.0, 5.0, 1.2, 0.0, 3.3, 2.95, 4.1, 2.5, 3.6]\n",
            "['Woody', 'Rejean', 'Andy', 'Little Bo', 'Buzz', 'Jessie', 'Slinky', 'Mr. Potato', 'Emily', 'Barbie']\n",
            "----------------------------------------------------------------------\n",
            "[3.6, 2.5, 4.1, 2.95, 3.3, 0.0, 1.2, 5.0, 0.0, 4.0]\n",
            "['Barbie', 'Emily', 'Mr. Potato', 'Slinky', 'Jessie', 'Buzz', 'Little Bo', 'Andy', 'Rejean', 'Woody']\n"
          ],
          "name": "stdout"
        }
      ]
    },
    {
      "cell_type": "markdown",
      "metadata": {
        "id": "nKEbg-u5Zbom"
      },
      "source": [
        "# Copia de la lista\n",
        "Es similar a la de clonar la lista, retorna una copia de una lista"
      ]
    },
    {
      "cell_type": "code",
      "metadata": {
        "colab": {
          "base_uri": "https://localhost:8080/"
        },
        "id": "GaRjW_7kZoXp",
        "outputId": "444852b2-b5c1-4eb9-8a81-c80af1b59331"
      },
      "source": [
        "copia_nombres=nombre_estudiantes.copy()\n",
        "print(copia_nombres)\n",
        "\n",
        "copia_notas=notas_definitivas.copy()\n",
        "print(copia_notas)\n",
        "\n"
      ],
      "execution_count": 7,
      "outputs": [
        {
          "output_type": "stream",
          "text": [
            "['Barbie', 'Emily', 'Mr. Potato', 'Slinky', 'Jessie', 'Buzz', 'Little Bo', 'Andy', 'Rejean', 'Woody']\n",
            "[3.6, 2.5, 4.1, 2.95, 3.3, 0.0, 1.2, 5.0, 0.0, 4.0]\n"
          ],
          "name": "stdout"
        }
      ]
    },
    {
      "cell_type": "markdown",
      "metadata": {
        "id": "q5dJGGeUZ7Dw"
      },
      "source": [
        "# Ordenando los elementos de una lista\n",
        "Esta función nos permite ordenar una lista, vamos a hacerlo con sus copias ya que al ordenar se pierde la relación estudiante nota. ¿Entiendes por qué?"
      ]
    },
    {
      "cell_type": "code",
      "metadata": {
        "colab": {
          "base_uri": "https://localhost:8080/"
        },
        "id": "RTIh11CYakDq",
        "outputId": "aaaed3ea-e8b1-4419-845b-bf53fb5b98a2"
      },
      "source": [
        "copia_nombres.sort() #Ordena la lista original, no es una copia ordenada de la lista\n",
        "print(copia_nombres)\n",
        "\n",
        "copia_notas.sort() #Ordena la lista original, no es una copia ordenada de la lista\n",
        "print(copia_notas)\n"
      ],
      "execution_count": 8,
      "outputs": [
        {
          "output_type": "stream",
          "text": [
            "['Andy', 'Barbie', 'Buzz', 'Emily', 'Jessie', 'Little Bo', 'Mr. Potato', 'Rejean', 'Slinky', 'Woody']\n",
            "[0.0, 0.0, 1.2, 2.5, 2.95, 3.3, 3.6, 4.0, 4.1, 5.0]\n"
          ],
          "name": "stdout"
        }
      ]
    },
    {
      "cell_type": "markdown",
      "metadata": {
        "id": "hapHYJPBbSA7"
      },
      "source": [
        "# Eliminando los elementos de una lista\n"
      ]
    },
    {
      "cell_type": "code",
      "metadata": {
        "colab": {
          "base_uri": "https://localhost:8080/"
        },
        "id": "NxP3mvkTbrdP",
        "outputId": "25001092-7425-40ba-a96c-0c5f4984c7f4"
      },
      "source": [
        "copia_nombres.clear()\n",
        "print(copia_nombres)\n",
        "\n",
        "copia_notas.clear() \n",
        "print(copia_notas)"
      ],
      "execution_count": 9,
      "outputs": [
        {
          "output_type": "stream",
          "text": [
            "[]\n",
            "[]\n"
          ],
          "name": "stdout"
        }
      ]
    },
    {
      "cell_type": "markdown",
      "metadata": {
        "id": "DtVmDIO2b0eM"
      },
      "source": [
        "# Frecuencia de un elemento\n",
        "Podemos saber el número de veces que un valor esta en la lista."
      ]
    },
    {
      "cell_type": "code",
      "metadata": {
        "colab": {
          "base_uri": "https://localhost:8080/"
        },
        "id": "6Sipc0-UcGOK",
        "outputId": "973d3250-ca75-4291-99ed-8a4c8cafd6d9"
      },
      "source": [
        "frecuencia=notas_definitivas.count(3.3)\n",
        "print(frecuencia)"
      ],
      "execution_count": 10,
      "outputs": [
        {
          "output_type": "stream",
          "text": [
            "1\n"
          ],
          "name": "stdout"
        }
      ]
    },
    {
      "cell_type": "markdown",
      "metadata": {
        "id": "iYjzl9R7dHg2"
      },
      "source": [
        "# Ejercicio\n",
        "Ya que tenemos las notas calculemos el promedio de notas del grupo\n"
      ]
    },
    {
      "cell_type": "code",
      "metadata": {
        "id": "2KSXUVo8ddvA",
        "colab": {
          "base_uri": "https://localhost:8080/"
        },
        "outputId": "ff7adbdb-382b-45d6-da9c-1cba874b9158"
      },
      "source": [
        "#Tu código aqui\n",
        "sumatoria_notas=0 #TODO: 1) \n",
        "\n",
        "for notas in notas_definitivas:\n",
        "  sumatoria_notas = sum(notas_definitivas)\n",
        "  print(\"Suma:\",sumatoria_notas)\n",
        "\n",
        "  longitud = len(notas_definitivas)\n",
        "  promedio_notas = sumatoria_notas/longitud\n",
        "  print(\"Promedio: \",promedio_notas)\n",
        "  break"
      ],
      "execution_count": 21,
      "outputs": [
        {
          "output_type": "stream",
          "text": [
            "Suma: 29.85\n",
            "Promedio:  2.9850000000000003\n"
          ],
          "name": "stdout"
        }
      ]
    },
    {
      "cell_type": "markdown",
      "metadata": {
        "id": "2sXNsH7Pdeys"
      },
      "source": [
        "<details>\n",
        "<summary>Dale a la flecha si necesitas una pista</summary>\n",
        "<pre><code>\n",
        "1) investiga la función sum de Python y reemplázala por el cero\n",
        "2) un promedio es algo / algo\n",
        "\n",
        "<code><pre>\n",
        "</details>"
      ]
    },
    {
      "cell_type": "markdown",
      "metadata": {
        "id": "8dktDC6vclYT"
      },
      "source": [
        "---\n",
        "FIN LABORATORIO\n",
        "---"
      ]
    }
  ]
}