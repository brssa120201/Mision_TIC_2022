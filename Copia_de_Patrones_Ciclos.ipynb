{
  "nbformat": 4,
  "nbformat_minor": 0,
  "metadata": {
    "colab": {
      "name": "Copia de Patrones Ciclos.ipynb",
      "provenance": [],
      "collapsed_sections": [],
      "include_colab_link": true
    },
    "kernelspec": {
      "name": "python3",
      "display_name": "Python 3"
    },
    "language_info": {
      "name": "python"
    }
  },
  "cells": [
    {
      "cell_type": "markdown",
      "metadata": {
        "id": "view-in-github",
        "colab_type": "text"
      },
      "source": [
        "<a href=\"https://colab.research.google.com/github/brssa120201/Mision_TIC_2022/blob/main/Copia_de_Patrones_Ciclos.ipynb\" target=\"_parent\"><img src=\"https://colab.research.google.com/assets/colab-badge.svg\" alt=\"Open In Colab\"/></a>"
      ]
    },
    {
      "cell_type": "markdown",
      "metadata": {
        "id": "0D97yNm_3Fj3"
      },
      "source": [
        "# Laboratorio 4.1\n",
        "Elaborado por Oscar Franco-Bedoya\n",
        "\n",
        "`Proyecto Mision TIC 2021\n",
        "\n",
        "## Objetivo\n",
        "Implementar programas aplicando el concepto de control de flujo ciclico en ejemplos básicos basados en patrones de ciclos. \n",
        "\n",
        "# Conde Contar\n",
        "\n",
        "El conde contar es un personaje de plaza sésamo cuyo rol era enseñar a contar **\"lentamente y también de prisa\"**, pregunten a sus papas o abuelos que seguro sabrán más de este personaje.\n",
        "\n",
        "Vamos a implementar una función que nos recuerde a este Vampiro contador.\n",
        "\n",
        "\n",
        "\n",
        "\n",
        "\n",
        "\n",
        "\n",
        "\n"
      ]
    },
    {
      "cell_type": "code",
      "metadata": {
        "id": "fjTf12uTYbi5",
        "colab": {
          "base_uri": "https://localhost:8080/"
        },
        "outputId": "c53c4965-ad8e-40da-fd28-e8505ed788d5"
      },
      "source": [
        "\"\"\" Programa Conde contar#\n",
        "    cuenta numeos consecutivamente \n",
        "    desde 1 hasta un límite dado\n",
        "    Oscar Franco-Bedoya\n",
        "    Mayo 10-2021 \"\"\"\n",
        "\n",
        "def conde_contar(limite):\n",
        "  \"\"\" \n",
        "  Parameters\n",
        "  ----------\n",
        "  limite:int\n",
        "     valor hasta el cual el conde contará \n",
        "  \"\"\" \n",
        "  print(\"Cuento len  ta   men      te\")\n",
        "  print(\"y también de prisa\")\n",
        "  print(\"y sin corta prisa \")\n",
        "  print(\"cuento sin parar\")\n",
        "  \n",
        "  cont=1 #Inicializa el contador\n",
        "  while cont <= limite:\n",
        "    print(cont)\n",
        "    cont+=1 #incrementa el contador \n",
        "    \n",
        "  print(\"y a veces llego a mil \")\n",
        "\n",
        "#====================================================================\n",
        "#   Algoritmo principal Punto de entrada a la aplicación (Conquistar)\n",
        "# ===================================================================\n",
        "\n",
        "limite_conteo=int(input(\"Digite el número hasta el cual el conde debe contar:\"))\n",
        "#Validacion del valor de entrada\n",
        "if limite_conteo <= 0:\n",
        "  print(\"Lo siento el conde solo cuenta hasta numeros mayores a cero\") \n",
        "else:\n",
        "  conde_contar(limite_conteo)\n",
        "\n"
      ],
      "execution_count": null,
      "outputs": [
        {
          "output_type": "stream",
          "text": [
            "Digite el número hasta el cual el conde debe contar:10\n",
            "Cuento len  ta   men      te\n",
            "y también de prisa\n",
            "y sin corta prisa \n",
            "cuento sin parar\n",
            "1\n",
            "2\n",
            "3\n",
            "4\n",
            "5\n",
            "6\n",
            "7\n",
            "8\n",
            "9\n",
            "10\n",
            "y a veces llego a mil \n"
          ],
          "name": "stdout"
        }
      ]
    },
    {
      "cell_type": "markdown",
      "metadata": {
        "id": "eL9XQSseYb38"
      },
      "source": [
        "# Sumatoria natural\n",
        "Si bien el conteo de numeros es muy útil e importante para varios algoritmos, con base en este patron podemos realizar otros ejercicios como por ejemplo la sumatoria de numeros consecutivos.\n",
        "\n",
        "\n",
        "$$suma=1+2+3+4+5+6....$$\n"
      ]
    },
    {
      "cell_type": "code",
      "metadata": {
        "id": "LDse8mo6mDNb",
        "colab": {
          "base_uri": "https://localhost:8080/"
        },
        "outputId": "4a7968d0-68b4-4264-ad3f-79b0e3c374fc"
      },
      "source": [
        "\"\"\" Programa Sumatoria#\n",
        "    Calcula la sumatoria\n",
        "    de numeros desde 1 hasta\n",
        "    un limite dado\n",
        "    Oscar Franco-Bedoya\n",
        "    Mayo 10-2021 \"\"\"\n",
        "\n",
        "def calcular_sumatoria(limite):\n",
        "  \"\"\" \n",
        "  Parameters\n",
        "  ----------\n",
        "  limite:int\n",
        "     valor hasta el cual se realizará la sumatoria\n",
        "  Returns\n",
        "  -------\n",
        "  sumatoria:float\n",
        "    el resultado de la sumatoria     \n",
        "  \"\"\"     \n",
        "  \n",
        "  cont=1 #Inicializa el contador\n",
        "  sumatoria=0 #inicializa la suma en 0\n",
        "  while cont <= limite: \n",
        "    sumatoria=sumatoria+cont # Realiza la suma\n",
        "    cont+=1 #incrementa el contador\n",
        "  return sumatoria  \n",
        " \n",
        "#====================================================================\n",
        "#   Algoritmo principal Punto de entrada a la aplicación (Conquistar)\n",
        "# ===================================================================\n",
        "\n",
        "limite_sumatoria=int(input(\"Digite el número hasta el cual realizará la sumatoria:\"))\n",
        "#Validacion del valor de entrada\n",
        "if limite_sumatoria <= 0:\n",
        "  print(\"debe ingresar un número mayor a cero\") \n",
        "else:\n",
        "  suma_total=calcular_sumatoria(limite_sumatoria)\n",
        "  print(\"El valor de la sumatoria es:\",suma_total)\n"
      ],
      "execution_count": null,
      "outputs": [
        {
          "output_type": "stream",
          "text": [
            "Digite el número hasta el cual realizará la sumatoria:3\n",
            "El valor de la sumatoria es: 6\n"
          ],
          "name": "stdout"
        }
      ]
    },
    {
      "cell_type": "markdown",
      "metadata": {
        "id": "p4z0n-M4vgcC"
      },
      "source": [
        "#Sumatoria par-ce\n",
        "\n",
        "Este ejercicio es muy similar al anterior, deseamos una función que calcule la sumatoria de los **N** primeros números pares.\n",
        "\n",
        "$$Sumaoria= 2+4+6+8+10+...$$\n",
        "\n",
        "!Vamos a hacerlo!\n",
        "\n",
        "\n",
        "<details>\n",
        "<summary>Dale a la flecha si necesitas una pista</summary>\n",
        "<pre><code>\n",
        "Estas a un *2 de hacerlo ;-)\n",
        "\n",
        "<code><pre>\n",
        "</details>"
      ]
    },
    {
      "cell_type": "code",
      "metadata": {
        "id": "AriA8nkMwaQH",
        "colab": {
          "base_uri": "https://localhost:8080/"
        },
        "outputId": "8a45f599-6c20-4822-eed5-f698aac015bf"
      },
      "source": [
        "#TODO Sumatoria de numeros pares\n",
        "def cal_sumatoria_par_ce(limite):\n",
        "  count = 2\n",
        "  sumatoria = 0\n",
        "  while count <= limite:\n",
        "    sumatoria = sumatoria + count\n",
        "    count+=2\n",
        "  return sumatoria\n",
        "\n",
        "limite_sumatoria = int(input(\"Digite el número hasta el cual realizara la sumatoria: \"))\n",
        "if limite_sumatoria <= 0:\n",
        "  print(\"Digite un número mayor a cero\")\n",
        "else:\n",
        "  suma_total = cal_sumatoria_par_ce(limite_sumatoria)\n",
        "  print(\"El valor de la suma total es:\",suma_total)"
      ],
      "execution_count": 4,
      "outputs": [
        {
          "output_type": "stream",
          "text": [
            "Digite el número hasta el cual realizara la sumatoria: 4\n",
            "El valor de la suma total es: 6\n"
          ],
          "name": "stdout"
        }
      ]
    },
    {
      "cell_type": "markdown",
      "metadata": {
        "id": "T6Fm0uh9k7Qu"
      },
      "source": [
        "# Lista del mercado\n",
        "En este ejercicio vamos a implementar una aplicación mucho mejor para don José el de la tienda, ¿Lo recuerdas?, esta vez le permitirá registrar el precio de una cantidad de productos vendidos y calcule el total a pagar por parte del cliente"
      ]
    },
    {
      "cell_type": "code",
      "metadata": {
        "id": "XXJqcZj0lZHg",
        "colab": {
          "base_uri": "https://localhost:8080/"
        },
        "outputId": "3ed26168-8d03-4b36-be39-aa5c936736eb"
      },
      "source": [
        "\"\"\" Programa costo lista de mercado#\n",
        "    Calcula el total a pagar por\n",
        "    una cantidad de productos\n",
        "    Oscar Franco-Bedoya\n",
        "    Mayo 10-2021 \"\"\"\n",
        "\n",
        "def calcular_total_pago(numero_productos):\n",
        "  \"\"\" \n",
        "  Parameters\n",
        "  ----------\n",
        "  numero_productos:int\n",
        "     numero de productos cuyo precio se va a sumar\n",
        "  Returns\n",
        "  ------\n",
        "  tolat_pago:float\n",
        "    el total de dinero a pagar     \n",
        "  \"\"\"     \n",
        "  cont=1 #Inicializa el contador\n",
        "  total_pago=0 #el total a pagar\n",
        "  while cont <= numero_productos:\n",
        "    precio=float(input(\"Digite el precio del producto:\"))\n",
        "    total_pago=total_pago+precio # va acumulando los precios\n",
        "    cont+=1 #incrementa el contador\n",
        "  return total_pago \n",
        " \n",
        "#====================================================================\n",
        "#   Algoritmo principal Punto de entrada a la aplicación (Conquistar)\n",
        "# ===================================================================\n",
        "\n",
        "cantidad_productos=int(input(\"Digite el total de productos a sumar:\"))\n",
        "#Validacion del valor de entrada\n",
        "if cantidad_productos <= 0:\n",
        "  print(\"No has comprado nada, no debes pagar\") \n",
        "else:\n",
        "  total_a_pagar=calcular_total_pago(cantidad_productos)\n",
        "  print(\"El valor  pagar por los productos es:$\",total_a_pagar) "
      ],
      "execution_count": null,
      "outputs": [
        {
          "output_type": "stream",
          "text": [
            "Digite el total de productos a sumar:5\n",
            "Digite el precio del producto:1000\n",
            "Digite el precio del producto:500\n",
            "Digite el precio del producto:5678\n",
            "Digite el precio del producto:987\n",
            "Digite el precio del producto:3250\n",
            "El valor  pagar por los productos es:$ 11415.0\n"
          ],
          "name": "stdout"
        }
      ]
    },
    {
      "cell_type": "markdown",
      "metadata": {
        "id": "FQM5DqxOoiEE"
      },
      "source": [
        "# Lista del mercado mi vecino fiel\n",
        "Don José está entrando en el tema de las industria 4.0 y ha pensado en un plan de fidelizacón de clientes otorgando un descuento del 5% a los que esten en su campaña **mi vecino fiel**, para ello  en este ejercicio vamos a implementar una aplicación similar a la anterior pero que pregunte si el cliente esta en la campaña vecino fiel y de esta manera calcule el total a pagar pero con descuento.\n",
        "\n",
        "\n"
      ]
    },
    {
      "cell_type": "code",
      "metadata": {
        "id": "68HjVabLk0u7",
        "colab": {
          "base_uri": "https://localhost:8080/"
        },
        "outputId": "503486bc-11dd-48f8-d033-e77d9baa4fda"
      },
      "source": [
        "\"\"\" Programa costo lista de mercado mi vecino fiel#\n",
        "    Calcula el total a pagar por\n",
        "    una cantidad de productos en\n",
        "    el plan mi vecino fiel\n",
        "    Oscar Franco-Bedoya\n",
        "    Mayo 10-2021 \"\"\"\n",
        "\n",
        "def calcular_total_pago(numero_productos,es_fiel):\n",
        "  \"\"\" \n",
        "  Parameters\n",
        "  ----------\n",
        "  numero_productos:int\n",
        "     numero de productos cuyo precio se va a sumar\n",
        "  Returns\n",
        "  ------\n",
        "  tolat_pago:float\n",
        "    el total de dinero a pagar     \n",
        "  \"\"\"     \n",
        "  \n",
        "  cont=1 #Inicializa el contador\n",
        "  total_pago=0 #el total a pagar\n",
        "  if es_fiel == 'no':\n",
        "    while cont <= numero_productos:\n",
        "      precio=float(input(\"Digite el precio del producto:\"))\n",
        "      total_pago=total_pago+precio # va acumulando los precios\n",
        "      cont+=1 #incrementa el contador\n",
        "    return total_pago\n",
        "    #TODO: 1) completar el codigo \n",
        "  elif es_fiel == 'si':\n",
        "    while cont <= numero_productos:\n",
        "      precio=float(input(\"Digite el precio del producto:\"))\n",
        "      total_pago=total_pago+(precio*0.05) # va acumulando los precios\n",
        "      cont+=1 #incrementa el contador\n",
        "    return total_pago \n",
        " \n",
        "#====================================================================\n",
        "#   Algoritmo principal Punto de entrada a la aplicación (Conquistar)\n",
        "# ===================================================================\n",
        "\n",
        "cantidad_productos=int(input(\"Digite el total de productos a sumar: \"))\n",
        "es_fiel = input(\"¿De casualidad usted hace parte de la campaña vecino fiel?: \")\n",
        "#Validacion del valor de entrada\n",
        "if cantidad_productos <= 0:\n",
        "  print(\"No has comprado nada, no debes pagar\") \n",
        "elif cantidad_productos > 0:\n",
        "  #TODO: 2) completar el codigo \n",
        "  total_a_pagar=calcular_total_pago(cantidad_productos, es_fiel)\n",
        "  print(\"El valor  pagar por los productos es:$\",total_a_pagar) \n",
        "  #TODO: 3) completar el codigo \n",
        "elif cantidad_productos > 0 and vecino_fiel == 'si':\n",
        "  total_a_pagar=calcular_total_pago(cantidad_productos)\n",
        "  print(\"El valor  pagar por los productos es:$\",total_a_pagar,es_fiel)\n",
        "  print(\"Agradecemos su fidelidad con nosotros\")\n",
        "  "
      ],
      "execution_count": null,
      "outputs": [
        {
          "output_type": "stream",
          "text": [
            "Digite el total de productos a sumar: 2\n",
            "¿De casualidad usted hace parte de la campaña vecino fiel?: si\n",
            "Digite el precio del producto:500\n",
            "Digite el precio del producto:500\n",
            "El valor  pagar por los productos es:$ 50.0\n"
          ],
          "name": "stdout"
        }
      ]
    },
    {
      "cell_type": "markdown",
      "metadata": {
        "id": "WU-8A6CklXa-"
      },
      "source": [
        "\n",
        "<details>\n",
        "<summary>Dale a la flecha si necesitas una pista</summary>\n",
        "<pre><code>\n",
        "1) Calcula aquí el descuento antes de retornar\n",
        "2) Como sé que es vecino fiel? fácil de frente Pregúntaselo\n",
        "3) Que tal un mensaje agradeciendo su fidelidad. Cuidado solo si es fiel\n",
        "\n",
        "<code><pre>\n",
        "</details>\n",
        "\n",
        "# Lista del mercado productos a vencer\n",
        "Don José ya no lo para nadie en su deseo de su tienda 4.0, ahora quiere que además del descuento del vecino fiel, se haga un descuento a los productos que están por vencer, este descuento será del 5% y aplicable tanto a vecinos fieles como infieles ;-). \n",
        "\n",
        "Ni modo, implementemos este nuevo programa, don José es nuestro mejor cliente y usuario\n",
        "\n"
      ]
    },
    {
      "cell_type": "code",
      "metadata": {
        "id": "_4mNsv6gtdvB",
        "colab": {
          "base_uri": "https://localhost:8080/"
        },
        "outputId": "1f835151-ba69-472c-82d0-cc9e1734c8e4"
      },
      "source": [
        "\"\"\" Programa costo lista de mercado productos a vencer#\n",
        "    Calcula el total a pagar por\n",
        "    una cantidad de productos algunos posiblemente próximos a vencer\n",
        "    Oscar Franco-Bedoya\n",
        "    Mayo 10-2021 \"\"\"\n",
        "\n",
        "def calcular_total_pago(numero_productos,es_fiel):\n",
        "  \"\"\" \n",
        "  Parameters\n",
        "  ----------\n",
        "  numero_productos:int\n",
        "     numero de productos cuyo precio se va a sumar\n",
        "  Returns\n",
        "  ------\n",
        "  tolat_pago:float\n",
        "    el total de dinero a pagar     \n",
        "  \"\"\"     \n",
        "  cont=1 #Inicializa el contador\n",
        "  total_pago=0 #el total a pagar\n",
        "  fecha=0\n",
        "  if es_fiel == 'no':\n",
        "    while cont <= numero_productos:\n",
        "      precio=float(input(\"Digite el precio del producto:\"))\n",
        "      descuento_vencimiento=0.05\n",
        "      total_pago=total_pago+(precio*descuento_vencimiento) # va acumulando los precios\n",
        "      cont+=1 #incrementa el contador\n",
        "    return total_pago\n",
        "    #TODO: 1) completar el codigo \n",
        "  elif es_fiel == 'si':\n",
        "    while cont <= numero_productos:\n",
        "      precio=float(input(\"Digite el precio del producto:\"))\n",
        "      descuento_fiel=0.05\n",
        "      descuento_vencimiento=0.05\n",
        "      descuento=descuento_fiel+descuento_vencimiento\n",
        "      total_pago=total_pago+(precio*descuento) # va acumulando los precios\n",
        "      cont+=1 #incrementa el contador\n",
        "    return total_pago \n",
        "   \n",
        " \n",
        "#====================================================================\n",
        "#   Algoritmo principal Punto de entrada a la aplicación (Conquistar)\n",
        "# ===================================================================\n",
        "\n",
        "cantidad_productos=int(input(\"Digite el total de productos a sumar: \"))\n",
        "es_fiel = input(\"¿De casualidad usted hace parte de la campaña vecino fiel?: \")\n",
        "descuento = input(\"¿El producto tiene descuento?: \")\n",
        "#Validacion del valor de entrada\n",
        "if cantidad_productos <= 0:\n",
        "  print(\"No has comprado nada, no debes pagar\") \n",
        "elif cantidad_productos > 0: \n",
        "  #TODO: 2) completar el codigo \n",
        "  total_a_pagar=calcular_total_pago(cantidad_productos,es_fiel)\n",
        "  print(\"El valor a pagar por los productos es: $\",total_a_pagar) \n",
        "  #TODO: 3) completar el codigo \n",
        "elif cantidad_productos > 0 and descuento =='si':\n",
        "  total_a_pagar=calcular_total_pago(cantidad_productos,es_fiel,descuento)\n",
        "  print(\"El valor  pagar por los productos es:$\",total_a_pagar,es_fiel)\n",
        "  print(\"Agradecemos su fidelidad con nosotros\")\n",
        "  \n"
      ],
      "execution_count": 22,
      "outputs": [
        {
          "output_type": "stream",
          "text": [
            "Digite el total de productos a sumar: 2\n",
            "¿De casualidad usted hace parte de la campaña vecino fiel?: si\n",
            "¿El producto tiene descuento?: si\n",
            "Digite el precio del producto:500\n",
            "Digite el precio del producto:500\n",
            "El valor a pagar por los productos es: $ 100.0\n"
          ],
          "name": "stdout"
        }
      ]
    },
    {
      "cell_type": "markdown",
      "metadata": {
        "id": "lPRx1lj9uA8k"
      },
      "source": [
        "\n",
        "<details>\n",
        "<summary>Dale a la flecha si necesitas una pista</summary>\n",
        "<pre><code>\n",
        "+ Respira profundo, cuenta hasta 3 y suelta el aire lentamente\n",
        "+ Repite mentalmente 3 veces: Puedo con esto!!\n",
        "+ que tal si después de leer el costo de un producto preguntas si está en descuento y luego un tema que ya dominamos, expresiones lógicas\n",
        "\n",
        "\n",
        "<code><pre>\n",
        "</details>\n",
        "\n",
        "# Lista de compras\n",
        "Como estan de moda las lluvias de sobres, a mi sobrina Cami le han dado una cantidad de dinero y ha salido de compras al centro comercial y en sus palabras me ha dicho:\n",
        "\n",
        "\n",
        "*Holis tio, quiero una app super que me permita ingresar cada compra que haga y me muestre cuanta plata me va quedando hasta que se termine, Literal no quiero gastar mas*  \n",
        "\n"
      ]
    },
    {
      "cell_type": "code",
      "metadata": {
        "id": "po5y0XStP4H-",
        "colab": {
          "base_uri": "https://localhost:8080/"
        },
        "outputId": "b82c330d-d5b7-4ab9-a86c-fd2c3dacaf2c"
      },
      "source": [
        "\"\"\" Programa costo lista de mercado#\n",
        "    Calcula el total a pagar por\n",
        "    una cantidad de productos\n",
        "    Oscar Franco-Bedoya\n",
        "    Mayo 10-2021 \"\"\"\n",
        "\n",
        "def mostrar_dinero_disponible(total_dinero):\n",
        "  \"\"\" \n",
        "  Parameters\n",
        "  ----------\n",
        "  total_dinero:float\n",
        "     cantidad de dinero a gastar\n",
        "  Returns\n",
        "  ------\n",
        "  saldo :float\n",
        "    dinero que sobra      \n",
        "  \"\"\"    \n",
        "  while total_dinero > 0:\n",
        "    precio=float(input(\"Digite el precio del producto comprado:\"))\n",
        "    if precio<=total_dinero: #verifica que con el dineo que aún le queda puede comprarlo\n",
        "      total_dinero=total_dinero-precio # va actualizando el dinero\n",
        "    else:\n",
        "      print(\"No puedes comprar ese producto\")\n",
        "    print(\"Aún te quedan $\",total_dinero,\"para gastar\")\n",
        "  return total_dinero \n",
        " \n",
        "#====================================================================\n",
        "#   Algoritmo principal Punto de entrada a la aplicación (Conquistar)\n",
        "# ===================================================================\n",
        "\n",
        "cantidad_dinero=int(input(\"Digite el total de dinero a gastar:\"))\n",
        "#Validacion del valor de entrada\n",
        "if cantidad_dinero <= 0:\n",
        "  print(\"No tienes dinero para gastar\") \n",
        "else:\n",
        "  saldo=mostrar_dinero_disponible(cantidad_dinero)\n",
        "  print(\"Buena compra y te quedarons:$\",saldo) \n",
        "\n"
      ],
      "execution_count": 23,
      "outputs": [
        {
          "output_type": "stream",
          "text": [
            "Digite el total de dinero a gastar:500000\n",
            "Digite el precio del producto comprado:600000\n",
            "No puedes comprar ese producto\n",
            "Aún te quedan $ 500000 para gastar\n",
            "Digite el precio del producto comprado:200\n",
            "Aún te quedan $ 499800.0 para gastar\n",
            "Digite el precio del producto comprado:800\n",
            "Aún te quedan $ 499000.0 para gastar\n",
            "Digite el precio del producto comprado:900\n",
            "Aún te quedan $ 498100.0 para gastar\n",
            "Digite el precio del producto comprado:87900\n",
            "Aún te quedan $ 410200.0 para gastar\n",
            "Digite el precio del producto comprado:123456\n",
            "Aún te quedan $ 286744.0 para gastar\n",
            "Digite el precio del producto comprado:56789\n",
            "Aún te quedan $ 229955.0 para gastar\n",
            "Digite el precio del producto comprado:123456\n",
            "Aún te quedan $ 106499.0 para gastar\n",
            "Digite el precio del producto comprado:13457\n",
            "Aún te quedan $ 93042.0 para gastar\n",
            "Digite el precio del producto comprado:93042\n",
            "Aún te quedan $ 0.0 para gastar\n",
            "Buena compra y te quedarons:$ 0.0\n"
          ],
          "name": "stdout"
        }
      ]
    },
    {
      "cell_type": "markdown",
      "metadata": {
        "id": "amfnzvPsNZgS"
      },
      "source": [
        "# Lector validador\n",
        "Una frase muy conocida en el desarrollo de programas es *garbage in garbage out* para significar que si se entran datos erróneos a un sistema se obtendrán seguramente datos incorrectos.\n",
        "\n",
        "Una forma de minimizar el problema es validar los datos de entrada a la aplicación. El siguiente programa lee un numero entero positivo, validando que sea correcto\n"
      ]
    },
    {
      "cell_type": "code",
      "metadata": {
        "colab": {
          "base_uri": "https://localhost:8080/"
        },
        "id": "o-nWi_DBYajP",
        "outputId": "3b6b0826-dde0-494e-b19d-a90bfdaa13e0"
      },
      "source": [
        "\"\"\" Programa lector enteros#\n",
        "    lee un numero entero positivo válido\n",
        "    Oscar Franco-Bedoya\n",
        "    Mayo 10-2021 \"\"\"\n",
        "\n",
        "def leer_entero_positivo():\n",
        "  \"\"\" \n",
        "  Returns\n",
        "  ------\n",
        "  numero :int\n",
        "    número entero positivo       \n",
        "  \"\"\"     \n",
        "  entero_cadena=\"\"\n",
        "  while not entero_cadena.isdigit(): # la cadena no contiene un entero positrivo\n",
        "    entero_cadena=input(\"Digite un número entero positivo:\")\n",
        "    if entero_cadena.isdigit(): # el numero digitado es válido\n",
        "      return int(entero_cadena)\n",
        "    else:\n",
        "      print(\"Los números enteros positivos solo tienen digitos\" )  \n",
        "\n",
        "  return null \n",
        " \n",
        "#====================================================================\n",
        "#   Algoritmo principal Punto de entrada a la aplicación (Conquistar)\n",
        "# ===================================================================\n",
        "\n",
        "numero=leer_entero_positivo()\n",
        "print(numero)"
      ],
      "execution_count": 24,
      "outputs": [
        {
          "output_type": "stream",
          "text": [
            "Digite un número entero positivo:12\n",
            "12\n"
          ],
          "name": "stdout"
        }
      ]
    },
    {
      "cell_type": "markdown",
      "metadata": {
        "id": "TKEy_UX9fmau"
      },
      "source": [
        "---\n",
        "FIN LABORATORIO\n",
        "---\n"
      ]
    }
  ]
}