{
  "nbformat": 4,
  "nbformat_minor": 0,
  "metadata": {
    "colab": {
      "name": "Copia de DiccionariosBasico.ipynb",
      "provenance": [],
      "collapsed_sections": [],
      "include_colab_link": true
    },
    "kernelspec": {
      "name": "python3",
      "display_name": "Python 3"
    },
    "language_info": {
      "name": "python"
    }
  },
  "cells": [
    {
      "cell_type": "markdown",
      "metadata": {
        "id": "view-in-github",
        "colab_type": "text"
      },
      "source": [
        "<a href=\"https://colab.research.google.com/github/brssa120201/Mision_TIC_2022/blob/main/Copia_de_DiccionariosBasico.ipynb\" target=\"_parent\"><img src=\"https://colab.research.google.com/assets/colab-badge.svg\" alt=\"Open In Colab\"/></a>"
      ]
    },
    {
      "cell_type": "markdown",
      "metadata": {
        "id": "8E81IMspPja-"
      },
      "source": [
        "# Laboratorio 5.3\n",
        "Elaborado por Oscar Franco-Bedoya\n",
        "\n",
        "`Proyecto Mision TIC 2021\n",
        "\n",
        "# Objetivo\n",
        "El objetivo de este laboratorio es verificar el funcionamiento las funciones básicas con diccionarios.\n",
        "\n",
        "Estos ejercicios están explicados detalladamente en el video asociado\n",
        "#Creación de diccionarios\n",
        "## Diccionario vacio"
      ]
    },
    {
      "cell_type": "code",
      "metadata": {
        "id": "nm72pGWf3l0Z",
        "colab": {
          "base_uri": "https://localhost:8080/"
        },
        "outputId": "4b24e682-3eb1-4a18-b707-62a421e3919f"
      },
      "source": [
        "Sensores= {}\n",
        "print(type(Sensores))"
      ],
      "execution_count": null,
      "outputs": [
        {
          "output_type": "stream",
          "text": [
            "<class 'dict'>\n"
          ],
          "name": "stdout"
        }
      ]
    },
    {
      "cell_type": "markdown",
      "metadata": {
        "id": "wPVsfRA04hls"
      },
      "source": [
        "## Creación con elementos\n"
      ]
    },
    {
      "cell_type": "code",
      "metadata": {
        "id": "cujCOMAr4pIw",
        "colab": {
          "base_uri": "https://localhost:8080/"
        },
        "outputId": "fce274a7-fc0d-46c4-dff0-d3ae12209aae"
      },
      "source": [
        "Sensores={'humedad':22}\n",
        "print(type(Sensores))\n",
        "print(Sensores)\n"
      ],
      "execution_count": null,
      "outputs": [
        {
          "output_type": "stream",
          "text": [
            "<class 'dict'>\n",
            "{'humedad': 22}\n"
          ],
          "name": "stdout"
        }
      ]
    },
    {
      "cell_type": "markdown",
      "metadata": {
        "id": "hZW1L5n_6GCZ"
      },
      "source": [
        "## Adicionando elementos al diccionario"
      ]
    },
    {
      "cell_type": "code",
      "metadata": {
        "id": "PwwbXLs75_wH",
        "colab": {
          "base_uri": "https://localhost:8080/"
        },
        "outputId": "c72107e8-5750-4dcf-b348-2bc0c11993c9"
      },
      "source": [
        "\n",
        "Sensores['temperatura']=35\n",
        "\n",
        "print(Sensores)\n"
      ],
      "execution_count": null,
      "outputs": [
        {
          "output_type": "stream",
          "text": [
            "{'humedad': 22, 'temperatura': 35}\n"
          ],
          "name": "stdout"
        }
      ]
    },
    {
      "cell_type": "markdown",
      "metadata": {
        "id": "wfZ_AVcyBb1G"
      },
      "source": [
        "## Accediendo a los elementos de la lista"
      ]
    },
    {
      "cell_type": "code",
      "metadata": {
        "id": "GAbHEDITBh0h",
        "colab": {
          "base_uri": "https://localhost:8080/"
        },
        "outputId": "5256df34-600e-4f4f-f212-6befa70b4786"
      },
      "source": [
        "print(Sensores['humedad'])\n",
        "Sensores['temperatura']=30\n",
        "x=Sensores['temperatura']\n",
        "print(x)\n",
        "Sensores['temperatura']=10\n",
        "x=Sensores['temperatura']\n",
        "print(x)\n"
      ],
      "execution_count": null,
      "outputs": [
        {
          "output_type": "stream",
          "text": [
            "22\n",
            "30\n",
            "10\n"
          ],
          "name": "stdout"
        }
      ]
    },
    {
      "cell_type": "markdown",
      "metadata": {
        "id": "zuE86IcJDSbU"
      },
      "source": [
        "---\n",
        "FIN DEL LABORATORIO\n",
        "---"
      ]
    }
  ]
}