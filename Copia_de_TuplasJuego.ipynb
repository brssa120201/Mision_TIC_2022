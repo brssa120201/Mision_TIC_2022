{
  "nbformat": 4,
  "nbformat_minor": 0,
  "metadata": {
    "colab": {
      "name": "Copia de TuplasJuego.ipynb",
      "provenance": [],
      "collapsed_sections": [
        "n_kgIK-lg2Or",
        "56uFMySiPuCD",
        "SAfW3gPeZBI0"
      ],
      "toc_visible": true,
      "include_colab_link": true
    },
    "kernelspec": {
      "name": "python3",
      "display_name": "Python 3"
    },
    "language_info": {
      "name": "python"
    }
  },
  "cells": [
    {
      "cell_type": "markdown",
      "metadata": {
        "id": "view-in-github",
        "colab_type": "text"
      },
      "source": [
        "<a href=\"https://colab.research.google.com/github/brssa120201/Mision_TIC_2022/blob/main/Copia_de_TuplasJuego.ipynb\" target=\"_parent\"><img src=\"https://colab.research.google.com/assets/colab-badge.svg\" alt=\"Open In Colab\"/></a>"
      ]
    },
    {
      "cell_type": "markdown",
      "metadata": {
        "id": "n_kgIK-lg2Or"
      },
      "source": [
        "# Laboratorio 5.2\n",
        "Elaborado por Oscar Franco-Bedoya\n",
        "\n",
        "\n",
        "`Proyecto Mision TIC 2021\n",
        "\n",
        "# Objetivo\n",
        "El objetivo de este laboratorio es desarrollar un programa que integre los conceptos vistos hasta ahora, es decir: 1) Condicionales, 2) Ciclos, 3) Listas, 4) Tuplas.\n",
        "\n",
        "# El juego Triqui\n",
        "Este juego también es conocido como tres en línea y es muy simple, casi siempre termina en empate. Se que todos conocemos este juego pero no sobra un pequeño \"*recorderis*\" \n",
        "\n",
        "*  Se juega en una tabla de 3 x 3\n",
        "*  Se tienen 2 jugadores que toman los símbolos X, O\n",
        "*  Los jugadores toman turnos \n",
        "*  El ganador es aquel que ubica tres símbolos en una línea: horizontal, vertical o diagonal\n",
        "\n",
        "# Analisis: identificar y definir el problema\n",
        "\n",
        "Debemos desarrollar una aplicación que permita jugar el juego del triqui (*problema*) para dos jugadores (*interesados*) y que de manera automática valide si existe un ganador, empate o el juego se bloquee.\n",
        "\n",
        "El tablero es de 3 x 3 y se deben usar los símbolos 'X','O' (*restricciones*)\n",
        "\n",
        "**Subproblemas**\n",
        "-  Dibujar el tablero\n",
        "-  Realizar una jugada\n",
        "-  Verificar ganador\n",
        "-  Jugar\n",
        "\n",
        "# Diseño: estrategia y algoritmos\n",
        "\n",
        "Veamos un ejemplo:\n",
        "\n",
        "tablero vacío\n",
        "-------------\n",
        "| 1 | 2 | 3 |\n",
        "-------------\n",
        "| 4 | 5 | 6 |\n",
        "-------------\n",
        "| 7 | 8 | 9 |\n",
        "-------------\n",
        "\n",
        "el jugador X marca a casilla 1\n",
        "-------------\n",
        "| X | 2 | 3 |\n",
        "-------------\n",
        "| 4 | 5 | 6 |\n",
        "-------------\n",
        "| 7 | 8 | 9 |\n",
        "-------------\n",
        "\n",
        "el jugador O marca la casilla 2\n",
        "-------------\n",
        "| X | O | 3 |\n",
        "-------------\n",
        "| 4 | 5 | 6 |\n",
        "-------------\n",
        "| 7 | 8 | 9 |\n",
        "-------------\n",
        "\n",
        "El jugador X marca la casilla 5\n",
        "\n",
        "-------------\n",
        "| X | O | 3 |\n",
        "-------------\n",
        "| 4 | X | 6 |\n",
        "-------------\n",
        "| 7 | 8 | 9 |\n",
        "-------------\n",
        "\n",
        "El jugador O marca la casilla 8\n",
        "\n",
        "-------------\n",
        "| X | O | 3 |\n",
        "-------------\n",
        "| 4 | X | 6 |\n",
        "-------------\n",
        "| 7 | O | 9 |\n",
        "-------------\n",
        "\n",
        "El jugador X marca la casilla 9 y gana e juego\n",
        "\n",
        "-------------\n",
        "| X | O | 3 |\n",
        "-------------\n",
        "| 4 | X | 6 |\n",
        "-------------\n",
        "| 7 | O | 9 |\n",
        "-------------\n",
        "\n",
        "# Dividir y Conquistar\n",
        "Vamos a solucionar el problema para cada uno de los subproblemas identificados\n",
        "\n",
        "## Dibujar el tablero\n",
        "\n",
        "El tablero tiene 9 celdas y en cada una puede ir un carácter 'X' o un carácter 'O', esto suena a una estructura de datos conocida la cadena de caracteres o str\n",
        "\n",
        "-------------\n",
        "| X | O | 3 |\n",
        "-------------\n",
        "| 4 | X | 6 |       ===> tablero='XO34X67O9'\n",
        "-------------\n",
        "| 7 | O | 9 |\n",
        "-------------\n",
        "\n",
        "\n",
        "Lo primero que se me ocurre es separar la cadena en tres partes \n",
        " * de 0 a 2     'XO3'\n",
        " * de 3 a 5     '4X6'\n",
        " * de 6 a 9     '7O9'\n",
        "\n",
        "debe insertarse un fin de línea (enter) después de cada una de las subcadenas, este caracter es el '\\n'\n",
        "asi tendriamos  \n",
        "XO3\n",
        "4X6\n",
        "7O9\n",
        "\n",
        "Para darle formato a esta grafica vamos a utilizar algunas de las funciones que nos proporciona Python \n",
        "\n",
        "### Implementación"
      ]
    },
    {
      "cell_type": "code",
      "metadata": {
        "id": "TCf9nO0Zgx-U",
        "colab": {
          "base_uri": "https://localhost:8080/"
        },
        "outputId": "9ec70ac7-bdc2-40dc-feec-0386015b2c65"
      },
      "source": [
        "\n",
        "def renderizar_tablero(juego) -> str:\n",
        " \n",
        "  \"\"\" \n",
        "  Parameters\n",
        "  ----------\n",
        "  juego:str\n",
        "     Una cadena de 9 caracteres que representa los símbolos en un tablero de triqui\n",
        "  Returns\n",
        "  -------\n",
        "  tablero:str\n",
        "    una cadena con formato para mostrar el juego     \n",
        "  \"\"\"\n",
        "\n",
        "  cells_tmpl = '| {} | {} | {} |'  #formato de cada fila del tablero\n",
        "  bar = '-------------' # línea divisoria\n",
        "  tablero=\"\\n\" # inicializa el tablero en fin de linea (return)\n",
        "  tablero= tablero.join([bar,cells_tmpl.format(*juego[:3]),bar, # Preguntale a tu formador el porque del *\n",
        "                        cells_tmpl.format(*juego[3:6]),bar,\n",
        "                        cells_tmpl.format(*juego[6:]),bar])\n",
        " \n",
        "  #La funcion join concatena todos los elementos de la lista y los separa con el caracter \\n \n",
        "  return tablero\n",
        "\n",
        "#====================================================================\n",
        "#   Algoritmo principal Punto de entrada a la aplicación \n",
        "# ===================================================================\n",
        "\n",
        "t=renderizar_tablero('XO34X67O9')\n",
        "print(t)\n",
        "\n"
      ],
      "execution_count": null,
      "outputs": [
        {
          "output_type": "stream",
          "text": [
            "-------------\n",
            "| X | O | 3 |\n",
            "-------------\n",
            "| 4 | X | 6 |\n",
            "-------------\n",
            "| 7 | O | 9 |\n",
            "-------------\n"
          ],
          "name": "stdout"
        }
      ]
    },
    {
      "cell_type": "markdown",
      "metadata": {
        "id": "56uFMySiPuCD"
      },
      "source": [
        "## Hacer una jugada\n",
        "La jugada consiste en leer la casilla en la cual el jugador desea poner su símbolo y actualizar la cadena con la nueva jugada. Esta función implica algunas validaciones:\n",
        "*  Debe leer una jugada en el rango 1 y 9\n",
        "*  La casilla no puede estar ocupada con \"X\" o \"O\"\n",
        "\n"
      ]
    },
    {
      "cell_type": "code",
      "metadata": {
        "id": "zX7W21OJSI4j",
        "colab": {
          "base_uri": "https://localhost:8080/",
          "height": 35
        },
        "outputId": "8d5060ae-2b5d-43a0-a18f-e3c4e8d45666"
      },
      "source": [
        "def actualizar_movimiento(juego,jugada,jugador) -> str:\n",
        "  \"\"\" \n",
        "  Parameters\n",
        "  ----------\n",
        "  juego:str\n",
        "     Una cadena de 9 caracteres con el estado del juego\n",
        "  jugada:str\n",
        "      La jugada realizada por el jugador en turno\n",
        "  jugador:str\n",
        "      El símbolo del jugador con el turno \n",
        "  Returns\n",
        "  -------\n",
        "  juego:str\n",
        "    La cadena con el juego con el cambio realizado por la jugada     \n",
        "  \"\"\"\n",
        "  # Validación del tipo y el rango de la jugada \n",
        "  if not (jugada.isdigit() and int(jugada) in range(1, 10)): # Condiciones que debe cumplir\n",
        "    print(f'Jugada no válida \"{jugada}\", Solo ingrese valores entre  1-9')\n",
        "    return juego # El juego no cambia\n",
        "  \n",
        "  # Validación de jugada permitida\n",
        "  numero_jugada = int(jugada)\n",
        "  if juego[numero_jugada - 1] in 'XO': # Esta ocupada con otra jugada\n",
        "    print(f'La casilla \"{jugada}\" ya esta ocupada')\n",
        "    return juego # El juego no cambia\n",
        "\n",
        "  #actualiza el juego con la nueva jugada\n",
        "  juego=juego[:numero_jugada-1]+jugador+juego[numero_jugada:]\n",
        "  return juego \n",
        "\n",
        "\n",
        "\n",
        "actualizar_movimiento(\"12345XOX9\",\"9\",\"X\")\n",
        "\n"
      ],
      "execution_count": null,
      "outputs": [
        {
          "output_type": "execute_result",
          "data": {
            "application/vnd.google.colaboratory.intrinsic+json": {
              "type": "string"
            },
            "text/plain": [
              "'12345XOXX'"
            ]
          },
          "metadata": {
            "tags": []
          },
          "execution_count": 2
        }
      ]
    },
    {
      "cell_type": "markdown",
      "metadata": {
        "id": "SAfW3gPeZBI0"
      },
      "source": [
        "## Verificar si hay un ganador\n",
        "\n",
        "Cuando un jugador logra poner 3 símbolos en linea horizontal, vertical o diagonal, gana el juego.\n",
        "\n",
        "Esto supone 8 posibles formas de ganar en el tablero que se muestra\n",
        "\n",
        "-------------\n",
        "| 0 | 1 | 2 |\n",
        "-------------\n",
        "| 3 | 4 | 5 |\n",
        "-------------\n",
        "| 6 | 7 | 8 |\n",
        "-------------\n",
        "\n",
        "Opciones para ganar\n",
        "\n",
        "-------------\n",
        "| 1 | 1 | 1 |\n",
        "-------------\n",
        "| 2 | 2 | 2 |\n",
        "-------------\n",
        "| 3 | 3 | 3 |\n",
        "-------------\n",
        "\n",
        "-------------\n",
        "| 4 | 5 | 6 |\n",
        "-------------\n",
        "| 4 | 5 | 6 |\n",
        "-------------\n",
        "| 4 | 5 | 6 |\n",
        "-------------\n",
        "\n",
        "-------------\n",
        "| 7 | . | . |\n",
        "-------------\n",
        "| . | 7 | . |\n",
        "-------------\n",
        "| . | . | 7 |\n",
        "-------------\n",
        "\n",
        "-------------\n",
        "| . | . | 8 |\n",
        "-------------\n",
        "| . | 8 | . |\n",
        "-------------\n",
        "| 8  | . | . |\n",
        "-------------\n",
        "\n",
        "### Estrategia de solución\n",
        "\n",
        "La estrategia es \"Fuerza Bruta\" y consiste en verificar las 8 opciones para ver si alguna tiene el mismo símbolo en las tres posiciones\n",
        "\n",
        "\n"
      ]
    },
    {
      "cell_type": "code",
      "metadata": {
        "id": "Fht7urRJbrei",
        "colab": {
          "base_uri": "https://localhost:8080/"
        },
        "outputId": "f36139fc-041c-4f01-9b8b-5a669b092a00"
      },
      "source": [
        "def encontrar_ganador(juego) -> str:\n",
        "  \"\"\" \n",
        "  Parameters\n",
        "  ----------\n",
        "  juego:str\n",
        "     Una cadena de 9 caracteres con el estado del juego\n",
        "  Returns\n",
        "  -------\n",
        "  ganador:str\n",
        "    La cadena con el simbolo del jugador ganador en caso de presentarse     \n",
        "  \"\"\"\n",
        "\n",
        "  # Opciones de ganar el juego representadas con tuplas\n",
        "  ganadores = ((0, 1, 2), (3, 4, 5), (6, 7, 8), (0, 3, 6), (1, 4, 7),\n",
        "               (2, 5, 8), (0, 4, 8), (2, 4, 6))\n",
        " \n",
        "  for jugador in ('X', 'O'):# Verificar por cada jugador \n",
        "    for i, j, k in ganadores: # buscar por cada opción ganadora en la lista de ganadores\n",
        "      linea = (juego[i], juego[j], juego[k]) #obtiene una tupla de los simbolos en las posiciones\n",
        "      if linea == (jugador, jugador, jugador): #compara si la tupla tiene el simbolo del jugador \n",
        "        return jugador \n",
        "  return None #No hay ganador\n",
        "\n",
        "#====================================================================\n",
        "#   Algoritmo principal Punto de entrada a la aplicación \n",
        "# ===================================================================\n",
        "\n",
        "print(encontrar_ganador(\"X2X4O67O9\"))\n"
      ],
      "execution_count": null,
      "outputs": [
        {
          "output_type": "stream",
          "text": [
            "None\n"
          ],
          "name": "stdout"
        }
      ]
    },
    {
      "cell_type": "markdown",
      "metadata": {
        "id": "0HXrLx5OeJE2"
      },
      "source": [
        "# Jugar\n",
        "El juego consiste en que cada jugador de manera alternativa va realizando jugadas hasta que uno de los dos gane o terminen el juego \n",
        "\n",
        "Vamos a realizar un ciclo infinito que termina si hay un ganador o si un jugador se retira"
      ]
    },
    {
      "cell_type": "code",
      "metadata": {
        "id": "8tvb6iu6eZGG",
        "colab": {
          "base_uri": "https://localhost:8080/"
        },
        "outputId": "da54979a-12ac-4ce0-af35-56af35ec9f9a"
      },
      "source": [
        "\n",
        "def jugar_triqui()->None:\n",
        "  \n",
        "  juego=\"123456789\" # Inicia el tablero sin jugadas\n",
        "  jugador='X'  # Inicia el jugador X\n",
        "  while True: # Ciclo infinito\n",
        "    print(renderizar_tablero(juego))  # Dibuja el tablero\n",
        "    jugada = input(f'Jugador {jugador}, ¿Cual es la jugada? [q para terminar]: ')\n",
        "    \n",
        "    if jugada=='q': # Se retira\n",
        "      print(\"Has perdido por W\")\n",
        "      break\n",
        "     \n",
        "    juego=actualizar_movimiento(juego,jugada,jugador) # actualiza el tablero\n",
        "    ganador=encontrar_ganador(juego) # Busca al ganador\n",
        "     \n",
        "    if ganador!=None: # hay un ganador\n",
        "      print(f\"{ganador} has ganado!\")\n",
        "      break\n",
        "  \n",
        "    if jugador=='X':  # Cambia el símbolo del jugador para la próxima jugada\n",
        "      jugador='O'\n",
        "    else:\n",
        "      jugador='X'\n",
        "\n",
        "#====================================================================\n",
        "#   Algoritmo principal Punto de entrada a la aplicación \n",
        "# ===================================================================\n",
        "\n",
        "jugar_triqui()\n"
      ],
      "execution_count": null,
      "outputs": [
        {
          "output_type": "stream",
          "text": [
            "-------------\n",
            "| 1 | 2 | 3 |\n",
            "-------------\n",
            "| 4 | 5 | 6 |\n",
            "-------------\n",
            "| 7 | 8 | 9 |\n",
            "-------------\n",
            "Jugador X, ¿Cual es la jugada? [q para terminar]: 1,X\n",
            "Jugada no válida \"1,X\", Solo ingrese valores entre  1-9\n",
            "-------------\n",
            "| 1 | 2 | 3 |\n",
            "-------------\n",
            "| 4 | 5 | 6 |\n",
            "-------------\n",
            "| 7 | 8 | 9 |\n",
            "-------------\n",
            "Jugador O, ¿Cual es la jugada? [q para terminar]: 1\n",
            "-------------\n",
            "| O | 2 | 3 |\n",
            "-------------\n",
            "| 4 | 5 | 6 |\n",
            "-------------\n",
            "| 7 | 8 | 9 |\n",
            "-------------\n",
            "Jugador X, ¿Cual es la jugada? [q para terminar]: 3\n",
            "-------------\n",
            "| O | 2 | X |\n",
            "-------------\n",
            "| 4 | 5 | 6 |\n",
            "-------------\n",
            "| 7 | 8 | 9 |\n",
            "-------------\n",
            "Jugador O, ¿Cual es la jugada? [q para terminar]: 6\n",
            "-------------\n",
            "| O | 2 | X |\n",
            "-------------\n",
            "| 4 | 5 | O |\n",
            "-------------\n",
            "| 7 | 8 | 9 |\n",
            "-------------\n",
            "Jugador X, ¿Cual es la jugada? [q para terminar]: A\n",
            "Jugada no válida \"A\", Solo ingrese valores entre  1-9\n",
            "-------------\n",
            "| O | 2 | X |\n",
            "-------------\n",
            "| 4 | 5 | O |\n",
            "-------------\n",
            "| 7 | 8 | 9 |\n",
            "-------------\n",
            "Jugador O, ¿Cual es la jugada? [q para terminar]: 5\n",
            "-------------\n",
            "| O | 2 | X |\n",
            "-------------\n",
            "| 4 | O | O |\n",
            "-------------\n",
            "| 7 | 8 | 9 |\n",
            "-------------\n",
            "Jugador X, ¿Cual es la jugada? [q para terminar]: 8\n",
            "-------------\n",
            "| O | 2 | X |\n",
            "-------------\n",
            "| 4 | O | O |\n",
            "-------------\n",
            "| 7 | X | 9 |\n",
            "-------------\n",
            "Jugador O, ¿Cual es la jugada? [q para terminar]: 9\n",
            "O has ganado!\n"
          ],
          "name": "stdout"
        }
      ]
    },
    {
      "cell_type": "markdown",
      "metadata": {
        "id": "ERpcubj1oqGX"
      },
      "source": [
        "# Ejercicios\n",
        "\n",
        "*  Con ayuda de tu formador/tutor realiza un seguimiento al programa paso a paso para verificar como funciona el programa.\n",
        "\n",
        "* Realiza un nuevo método jugar_triqui() que permita máximo 6 movimientos en total\n",
        "* ¿Que tal un Forqui? es decir un tablero de 4 x 4\n",
        "\n",
        "---\n",
        "FIN DE LABORATORIO\n",
        "---\n"
      ]
    }
  ]
}