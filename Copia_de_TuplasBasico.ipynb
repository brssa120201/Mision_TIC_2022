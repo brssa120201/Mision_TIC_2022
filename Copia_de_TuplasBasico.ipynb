{
  "nbformat": 4,
  "nbformat_minor": 0,
  "metadata": {
    "colab": {
      "name": "Copia de TuplasBasico.ipynb",
      "provenance": [],
      "collapsed_sections": [],
      "include_colab_link": true
    },
    "kernelspec": {
      "name": "python3",
      "display_name": "Python 3"
    },
    "language_info": {
      "name": "python"
    }
  },
  "cells": [
    {
      "cell_type": "markdown",
      "metadata": {
        "id": "view-in-github",
        "colab_type": "text"
      },
      "source": [
        "<a href=\"https://colab.research.google.com/github/brssa120201/Mision_TIC_2022/blob/main/Copia_de_TuplasBasico.ipynb\" target=\"_parent\"><img src=\"https://colab.research.google.com/assets/colab-badge.svg\" alt=\"Open In Colab\"/></a>"
      ]
    },
    {
      "cell_type": "markdown",
      "metadata": {
        "id": "7C8RRQdrZN5E"
      },
      "source": [
        "# Laboratorio 5.1\n",
        "Elaborado por Oscar Franco-Bedoya\n",
        "\n",
        "`Proyecto Mision TIC 2021\n",
        "\n",
        "# Objetivo\n",
        "El objetivo de este laboratorio es verificar el funcionamiento las funciones básicas con tuplas.\n",
        "\n",
        "Estos ejercicios están explicados detalladamente en el video asociado\n",
        "\n",
        "#Creación de tuplas\n",
        "## Tuplas vacias\n"
      ]
    },
    {
      "cell_type": "code",
      "metadata": {
        "colab": {
          "base_uri": "https://localhost:8080/"
        },
        "id": "UvLQyLD_ZLxU",
        "outputId": "254a8c4a-c574-41dc-9fe5-d926a1cee42c"
      },
      "source": [
        "\n",
        "tupla1=()\n",
        "print(type(tupla1))\n",
        "\n",
        "tupla2=tuple()\n",
        "print(type(tupla2))\n",
        "\n",
        "\n"
      ],
      "execution_count": null,
      "outputs": [
        {
          "output_type": "stream",
          "text": [
            "<class 'tuple'>\n",
            "<class 'tuple'>\n"
          ],
          "name": "stdout"
        }
      ]
    },
    {
      "cell_type": "markdown",
      "metadata": {
        "id": "isQ8y_ZfcuQy"
      },
      "source": [
        "## Creación con elementos\n"
      ]
    },
    {
      "cell_type": "code",
      "metadata": {
        "colab": {
          "base_uri": "https://localhost:8080/"
        },
        "id": "GNqqWi0lagX9",
        "outputId": "0abcf2fa-e4a0-4485-fb5a-540b055f3c8d"
      },
      "source": [
        "circulo1=3,-4,3,\"Blue\" # Empaquetamiento\n",
        "print(type(circulo1))\n",
        "\n",
        "circulo2=(10,5,6,\"Yellow\")\n",
        "print(type(circulo2))\n",
        "\n",
        "circulo3=tuple((2,4,5,\"Green\"))\n",
        "print(type(circulo3))\n",
        "print(circulo1)\n",
        "print(circulo2)\n",
        "print(circulo3)\n"
      ],
      "execution_count": null,
      "outputs": [
        {
          "output_type": "stream",
          "text": [
            "<class 'tuple'>\n",
            "<class 'tuple'>\n",
            "<class 'tuple'>\n",
            "(3, -4, 3, 'Blue')\n",
            "(10, 5, 6, 'Yellow')\n",
            "(2, 4, 5, 'Green')\n"
          ],
          "name": "stdout"
        }
      ]
    },
    {
      "cell_type": "markdown",
      "metadata": {
        "id": "ntlXyq3wd-PV"
      },
      "source": [
        "## Tupla unitaria"
      ]
    },
    {
      "cell_type": "code",
      "metadata": {
        "id": "3yPaYRZNeDFC",
        "colab": {
          "base_uri": "https://localhost:8080/"
        },
        "outputId": "c2946770-0b1a-4287-f323-8646343dd9d9"
      },
      "source": [
        "tupla=(8,)\n",
        "print(type(tupla))\n",
        "print(tupla)"
      ],
      "execution_count": null,
      "outputs": [
        {
          "output_type": "stream",
          "text": [
            "<class 'tuple'>\n",
            "(8,)\n"
          ],
          "name": "stdout"
        }
      ]
    },
    {
      "cell_type": "markdown",
      "metadata": {
        "id": "r_c5zdMeiMWs"
      },
      "source": [
        "## Acceso a los elementos de la tupla"
      ]
    },
    {
      "cell_type": "code",
      "metadata": {
        "colab": {
          "base_uri": "https://localhost:8080/"
        },
        "id": "b7xZ4vYciUMB",
        "outputId": "ba3a8cf3-30f4-47db-c81c-a40606f94efb"
      },
      "source": [
        "circulo3=tuple((2,4,5,\"Green\"))\n",
        "print(circulo3[2])\n",
        "print(circulo3[0:2])\n",
        "print(circulo3[-1])"
      ],
      "execution_count": null,
      "outputs": [
        {
          "output_type": "stream",
          "text": [
            "5\n",
            "(2, 4)\n",
            "Green\n"
          ],
          "name": "stdout"
        }
      ]
    },
    {
      "cell_type": "markdown",
      "metadata": {
        "id": "p4HRry9Zi2bN"
      },
      "source": [
        "## Tamaño de la tupla"
      ]
    },
    {
      "cell_type": "code",
      "metadata": {
        "colab": {
          "base_uri": "https://localhost:8080/"
        },
        "id": "V_BJIfvXjB_i",
        "outputId": "b278ca9a-5ed5-4278-d005-dea1306aff54"
      },
      "source": [
        "len(circulo3)\n",
        "print(circulo3)"
      ],
      "execution_count": null,
      "outputs": [
        {
          "output_type": "stream",
          "text": [
            "(2, 4, 5, 'Green')\n"
          ],
          "name": "stdout"
        }
      ]
    },
    {
      "cell_type": "markdown",
      "metadata": {
        "id": "1piFTdigjKcd"
      },
      "source": [
        "## Desempaquetado de tuplas\n"
      ]
    },
    {
      "cell_type": "code",
      "metadata": {
        "colab": {
          "base_uri": "https://localhost:8080/"
        },
        "id": "iDZ2WLtsjXM9",
        "outputId": "e5e74897-c158-4078-9d98-74e290fc8c14"
      },
      "source": [
        "x,y,radio,color=circulo3 #Desempaquetamiento\n",
        "print(x,y,radio,color)"
      ],
      "execution_count": null,
      "outputs": [
        {
          "output_type": "stream",
          "text": [
            "2 4 5 Green\n"
          ],
          "name": "stdout"
        }
      ]
    },
    {
      "cell_type": "markdown",
      "metadata": {
        "id": "s8poGrPMrsxS"
      },
      "source": [
        "## Retorno de valores "
      ]
    },
    {
      "cell_type": "code",
      "metadata": {
        "colab": {
          "base_uri": "https://localhost:8080/"
        },
        "id": "WLGz6U7LsXwa",
        "outputId": "adec0187-8655-43bc-e5e6-b459d76edaa2"
      },
      "source": [
        "def operaciones_aritmeticas(num1,num2):\n",
        "  s=num1+num2\n",
        "  r=num1-num2\n",
        "  m=num1*num2\n",
        "  d=num1/num2\n",
        "\n",
        "  return s,r,m,d\n",
        "\n",
        "x=operaciones_aritmeticas(10,20)\n",
        "print(type(x))\n",
        "\n",
        "r1,r2,r3,r4 = operaciones_aritmeticas(10,20)\n",
        "print(r1,r2,r3,r4)\n",
        "r1,r2,r3,r4 = x\n",
        "print(r1,r2,r3,r4)"
      ],
      "execution_count": null,
      "outputs": [
        {
          "output_type": "stream",
          "text": [
            "<class 'tuple'>\n",
            "30 -10 200 0.5\n",
            "30 -10 200 0.5\n"
          ],
          "name": "stdout"
        }
      ]
    },
    {
      "cell_type": "markdown",
      "metadata": {
        "id": "02K4GE6Ftu78"
      },
      "source": [
        "## Tuplas como parámetros"
      ]
    },
    {
      "cell_type": "code",
      "metadata": {
        "colab": {
          "base_uri": "https://localhost:8080/"
        },
        "id": "j9SBzjWDuBQX",
        "outputId": "83ad3a3f-eb28-4023-a582-95b9824f6720"
      },
      "source": [
        "import math\n",
        "\n",
        "def area_circulo(circulo:tuple):\n",
        "  radio=circulo[2]\n",
        "  area=2*math.pi*radio\n",
        "  return area \n",
        "\n",
        "area=area_circulo((2,2,2,\"Blue\"))\n",
        "print(area)"
      ],
      "execution_count": null,
      "outputs": [
        {
          "output_type": "stream",
          "text": [
            "12.566370614359172\n"
          ],
          "name": "stdout"
        }
      ]
    },
    {
      "cell_type": "markdown",
      "metadata": {
        "id": "0EkbEBSLzl1u"
      },
      "source": [
        "# Named tuples"
      ]
    },
    {
      "cell_type": "code",
      "metadata": {
        "colab": {
          "base_uri": "https://localhost:8080/"
        },
        "id": "XWet8tvKzq9l",
        "outputId": "8296fc27-4288-4ea9-bf07-5eb8882a117e"
      },
      "source": [
        "from collections import namedtuple\n",
        "Circulo=namedtuple('Circulo', ['x', 'y','radio','color']) #Nuevo tipo de datos\n",
        "\n",
        "print(type(Circulo))\n",
        "print(type(int))\n",
        "\n",
        "c1= Circulo(2,3,5,\"Blue\") #Definiendo una variable\n",
        "print(type(c1))\n",
        "\n",
        "print(c1.color)\n"
      ],
      "execution_count": null,
      "outputs": [
        {
          "output_type": "stream",
          "text": [
            "<class 'type'>\n",
            "<class 'type'>\n",
            "<class '__main__.Circulo'>\n",
            "Blue\n"
          ],
          "name": "stdout"
        }
      ]
    },
    {
      "cell_type": "markdown",
      "metadata": {
        "id": "fLCt01auu0F3"
      },
      "source": [
        "---\n",
        "FIN LABORATORIO\n",
        "---\n"
      ]
    }
  ]
}