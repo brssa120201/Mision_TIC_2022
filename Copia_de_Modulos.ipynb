{
  "nbformat": 4,
  "nbformat_minor": 0,
  "metadata": {
    "colab": {
      "name": "Copia de Modulos.ipynb",
      "provenance": [],
      "collapsed_sections": [],
      "include_colab_link": true
    },
    "kernelspec": {
      "name": "python3",
      "display_name": "Python 3"
    },
    "language_info": {
      "name": "python"
    }
  },
  "cells": [
    {
      "cell_type": "markdown",
      "metadata": {
        "id": "view-in-github",
        "colab_type": "text"
      },
      "source": [
        "<a href=\"https://colab.research.google.com/github/brssa120201/Mision_TIC_2022/blob/main/Copia_de_Modulos.ipynb\" target=\"_parent\"><img src=\"https://colab.research.google.com/assets/colab-badge.svg\" alt=\"Open In Colab\"/></a>"
      ]
    },
    {
      "cell_type": "markdown",
      "metadata": {
        "id": "biub9nUgZOKu"
      },
      "source": [
        "# Laboratorio 3.1\n",
        "\n",
        "*Elaborado por Oscar Franco-Bedoya*\n",
        "\n",
        "*`Proyecto Mision TIC 2021*\n",
        "\n",
        "\n",
        "## Objetivo\n",
        "Aplicar el concepto de modulos mediante la impementación de programas que utilizan librerias de Python como math y random.\n",
        "\n",
        "## La calculadora de Trigo\n",
        "### Contexto\n",
        "El profesor de matemáticas del colegio de la esquina ha decidido desarrollar un programa en Python que realiza las operaciones trigonométricas y así,  ayudar a sus estudiantes olvidadizos que olvidan traer su Calculadora científica para la clase:\n",
        "\n",
        "Las operaciones que desea realizar son\n",
        "-  Seno(a)\n",
        "-  Coseno(a)\n",
        "-  Tangente(a)\n",
        "-  Cotangente(a)\n",
        "-  Arcoseno(a)\n",
        "-  Arcocoseno(x)\n",
        "-  Arcotangente(x)\n",
        "\n",
        "x es un angulo en grados\n",
        "\n",
        "Como el profesor sabe de funciones en programación y entiende la importancia de la programación modular, ha decidido implementar la aplicación utilizando funciones\n"
      ]
    },
    {
      "cell_type": "code",
      "metadata": {
        "id": "dWT7C-5kcxkp",
        "colab": {
          "base_uri": "https://localhost:8080/"
        },
        "outputId": "484ec7e4-ce60-4d45-df73-dc895088ecd4"
      },
      "source": [
        "\"\"\" Laboratorio 3.1 La calculadora de Trigo \n",
        "    Brissa Higuita Patiño\n",
        "    Mayo 18-2021 \"\"\"\n",
        "\n",
        "# Importar modulos/librerias\n",
        "import math as m\n",
        "\n",
        "# Definición de Funciones (Dividir)\n",
        "def calcular_seno(angulo_grados):\n",
        "  \"\"\" \n",
        "  Parameters\n",
        "  ----------\n",
        "  nangulo_grados:float\n",
        "     un numero entre 0  y 360 que representa un ángulo en graados\n",
        "  -------\n",
        "  Return\n",
        "  seno:float\n",
        "    el seno del angulo_grados   \n",
        "  \"\"\"  \n",
        "  seno= m.sin(m.radians(angulo_grados))\n",
        "  return seno\n",
        "\n",
        "#TODO: Ayudar al profe con las demás funciones\n",
        "def calcular_coseno(angulo_grados):\n",
        "  coseno = m.cos(m.radians(angulo_grados))\n",
        "  return coseno\n",
        "\n",
        "def calcular_tangente(angulo_grados):\n",
        "  tangente = m.tan(m.radians(angulo_g))\n",
        "  return tangente\n",
        "\n",
        "def calcular_cotangente(angulo_grados):\n",
        "  cotangente = m.atan(m.radians(angulo_g))\n",
        "  return cotangente\n",
        "\n",
        "def calcular_arcoseno(angulo_grados):\n",
        "  arcoseno = m.asinh(m.radians(angulo_g))\n",
        "  return arcoseno\n",
        "\n",
        "def calcular_arcocoseno(angulo_grados):\n",
        "  arcocoseno = m.acosh(m.radians(angulo_g))\n",
        "  return arcocoseno\n",
        "\n",
        "def calcular_arcotangente(angulo_grados):\n",
        "    arcotangente = m.atan(m.radians(angulo_g))\n",
        "    return arcotangente\n",
        "#======================================================================\n",
        "#   Algoritmo principal Punto de entrada a la aplicación (Conquistar)\n",
        "# =====================================================================\n",
        "\n",
        "#lectura angulo\n",
        "angulo_g=float(input(\"Ingresa un ángulo entre 0 y 360 \"))\n",
        "r_seno=calcular_seno(angulo_g)\n",
        "print(\"\\nSeno (\",angulo_g,\") =\",r_seno)\n",
        "\n",
        "r_coseno = calcular_coseno(angulo_g)\n",
        "print(\"Coseno (\",angulo_g,\") =\",r_coseno)\n",
        "\n",
        "r_tangente = calcular_tangente(angulo_g)\n",
        "print(\"Tangente (\",angulo_g,\") =\",r_tangente)\n",
        "\n",
        "r_cotangente = calcular_cotangente(angulo_g)\n",
        "print(\"Cotangente (\",angulo_g,\") =\",r_cotangente)\n",
        "\n",
        "r_arcoseno = calcular_arcoseno(angulo_g)\n",
        "print(\"Arcoseno (\",angulo_g,\") = \",r_arcoseno)\n",
        "\n",
        "r_arcocoseno = calcular_arcocoseno(angulo_g)\n",
        "print(\"Arcocoseno (\",angulo_g, \") =\",r_arcocoseno)\n",
        "\n",
        "r_arcocotangente = calcular_arcotangente(angulo_g)\n",
        "print(\"Arcotangente (\",angulo_g,\") =\",r_arcocotangente)"
      ],
      "execution_count": null,
      "outputs": [
        {
          "output_type": "stream",
          "text": [
            "Ingresa un ángulo entre 0 y 360 155\n",
            "\n",
            "Seno ( 155.0 ) = 0.4226182617406995\n",
            "Coseno ( 155.0 ) = -0.9063077870366499\n",
            "Tangente ( 155.0 ) = -0.46630765815499864\n",
            "Cotangente ( 155.0 ) = 1.2167241299076503\n",
            "Arcoseno ( 155.0 ) =  1.7208772796205645\n",
            "Arcocoseno ( 155.0 ) = 1.6522885259091493\n",
            "Arcotangente ( 155.0 ) = 1.2167241299076503\n"
          ],
          "name": "stdout"
        }
      ]
    },
    {
      "cell_type": "markdown",
      "metadata": {
        "id": "C5-azyvVjiuC"
      },
      "source": [
        "## La raiz 4\n",
        "Nos han pedido un pequeño programa que calcule la raíz cuarta de un número. No se diga más, ¡a escribirlo en la siguiente celda de código!\n",
        "\n",
        "<details>\n",
        "<summary>Dale a la flecha si necesitas una pista</summary>\n",
        "<pre><code>\n",
        "Afortunadamente tenemos la lista de funciones de math\n",
        "<a href=\"https://docs.python.org/3/library/math.html\">Modulo math</a>\n",
        "Solo sera buscar la funcion respectiva ¿O no?\n",
        "<code><pre>\n",
        "</details>\n",
        "\n",
        "<details>\n",
        "<summary>Dale a la flecha si necesitas AUN MAS AYUDA</summary>\n",
        "<pre><code>\n",
        "Por ahi dicen que la raiz cuarta es la raiz cuadrada de la raiz cuadrada :\n",
        "<code><pre>\n",
        "</details>"
      ]
    },
    {
      "cell_type": "code",
      "metadata": {
        "id": "MhlfmYAugTHo",
        "colab": {
          "base_uri": "https://localhost:8080/"
        },
        "outputId": "48062120-faeb-4aeb-9b48-5ecebecd5d0a"
      },
      "source": [
        "import math as m\n",
        "\n",
        "valor=float(input(\"Ingresa un numero \"))\n",
        "#raiz_cuarta=m.sqrt(?()) #TODO: completar el código\n",
        "\n",
        "def calcular_raiz_cuarta(valor):\n",
        "  raiz_cuarta = m.sqrt((valor))\n",
        "  raiz = m.sqrt(raiz_cuarta)\n",
        "  return raiz\n",
        "\n",
        "raiz = calcular_raiz_cuarta(valor)\n",
        "print(\"La raiz cuarta de:\",valor, \"es de:\",raiz)"
      ],
      "execution_count": null,
      "outputs": [
        {
          "output_type": "stream",
          "text": [
            "Ingresa un numero 92236816\n",
            "La raiz cuarta de: 92236816.0 es de: 98.0\n"
          ],
          "name": "stdout"
        }
      ]
    },
    {
      "cell_type": "markdown",
      "metadata": {
        "id": "wG5zN6mtmie5"
      },
      "source": [
        "## La raiz n\n",
        "Debido al éxito arrollador del programa que calcula la raíz cuarta, nos han pedido un programa que calcule cualquier raíz n (n número entero) para un numero dado.\n",
        "\n",
        "<details>\n",
        "<summary>Dale a la flecha si necesitas una pista</summary>\n",
        "<pre><code>\n",
        "La raiz nesima de X es igual a X elevado a la 1/n \n",
        "<code><pre>\n",
        "</details>"
      ]
    },
    {
      "cell_type": "code",
      "metadata": {
        "id": "GeeWnltUndFN",
        "colab": {
          "base_uri": "https://localhost:8080/"
        },
        "outputId": "08cce0b7-f55b-4d80-db4b-c3e711497f10"
      },
      "source": [
        "import math as m\n",
        "\n",
        "valor=float(input(\"Ingresa un numero \"))\n",
        "raiz=int(input(\"Ingresa la raiz que quieres calcular \"))\n",
        "#raiz_n=  #TODO: completar el código\n",
        "def calcular_raiz_n(valor, raiz):\n",
        "  raiz_elevada = valor**1/raiz  \n",
        "  raiz_n = m.sqrt(raiz_elevada)\n",
        "  return raiz_n\n",
        "\n",
        "raices = calcular_raiz_n(valor, raiz)\n",
        "print(\"La raiz\",raiz,\"de:\",valor,\"es de:\",raices)"
      ],
      "execution_count": null,
      "outputs": [
        {
          "output_type": "stream",
          "text": [
            "Ingresa un numero 27\n",
            "Ingresa la raiz que quieres calcular 3\n",
            "La raiz 3 de: 27.0 es de: 3.0\n"
          ],
          "name": "stdout"
        }
      ]
    },
    {
      "cell_type": "markdown",
      "metadata": {
        "id": "4PRJiceFYp1l"
      },
      "source": [
        "## Juego de Dados\n",
        "Vamos a realizar una función que simula el lanzamiento de un dado de 6 caras. Para ello se debe utilizar un modulo de Python llamado [random.py](https://docs.python.org/3/library/random.html) Dale clic para ver sus funciones.\n",
        "\n",
        "  "
      ]
    },
    {
      "cell_type": "code",
      "metadata": {
        "id": "HCIyUc26ZRyQ",
        "colab": {
          "base_uri": "https://localhost:8080/"
        },
        "outputId": "4aea4172-4195-4b3c-9c9c-e3177e4a5501"
      },
      "source": [
        "\"\"\" Laboratorio 3.1 Lanzamiento de dados \n",
        "    Oscar Franco-Bedoya\n",
        "    Mayo 10-2021 \"\"\"\n",
        "\n",
        "# Importar modulos/librerias\n",
        "import random as r\n",
        "#TODO: 1) Que debo importar aqui\n",
        "\n",
        "# Definición de Funciones (Dividir)\n",
        "def lanzar_dado():\n",
        "  #TODO: 2) Terminar la función\n",
        "  dado = r.randint(1,6)\n",
        "  return dado\n",
        "#======================================================================\n",
        "#   Algoritmo principal Punto de entrada a la aplicación (Conquistar)\n",
        "# =====================================================================\n",
        "\n",
        "#TODO: 3) Programa principal\n",
        "dados = lanzar_dado()\n",
        "print(\"Lanzaminto aleatorio de dados:\",dados)"
      ],
      "execution_count": null,
      "outputs": [
        {
          "output_type": "stream",
          "text": [
            "Lanzaminto aleatorio de dados: 1\n"
          ],
          "name": "stdout"
        }
      ]
    },
    {
      "cell_type": "markdown",
      "metadata": {
        "id": "0T7ocoqoanYe"
      },
      "source": [
        "<details>\n",
        "<summary>Dale a la flecha si necesitas una pista</summary>\n",
        "<pre><code>\n",
        "1) para importar un modulo se usa la palabra import seguida del  nombre del módulo\n",
        "2) la función que genera un numero aleatorio es random.randint(1, 6)\n",
        "3) Solo llama a la fución lanzar_dado()\n",
        "\n",
        "<code><pre>\n",
        "</details>"
      ]
    },
    {
      "cell_type": "markdown",
      "metadata": {
        "id": "oaQy_yQQbOEY"
      },
      "source": [
        "## Dos dados\n",
        "Para hacer el juego mas interesante modifique el programa para que simule el lanzamiento de dos dados\n",
        "### NOTA\n",
        "No deben definirse mas funciones, solo modifique el programa principal \n",
        "\n",
        "<details>\n",
        "<summary>Dale a la flecha si necesitas una pista</summary>\n",
        "<pre><code>\n",
        "Recuerda que una función puede llamarse varias veces\n",
        "<code><pre>\n",
        "</details>"
      ]
    },
    {
      "cell_type": "code",
      "metadata": {
        "id": "io_YkS6ddEp2",
        "colab": {
          "base_uri": "https://localhost:8080/"
        },
        "outputId": "b80bcf2b-58a8-45f2-c6cd-d2c50a5874a9"
      },
      "source": [
        "\"\"\" Laboratorio 3.1 Lanzamiento de DOS dados \n",
        "    Oscar Franco-Bedoya\n",
        "    Mayo 10-2021 \"\"\"\n",
        "#TODO: Copiar y pegar el anterior programa y cambiar el programa principal\n",
        "# Importar modulos/librerias\n",
        "import random as r\n",
        "#TODO: 1) Que debo importar aqui\n",
        "\n",
        "# Definición de Funciones (Dividir)\n",
        "def lanzar_dado():\n",
        "  #TODO: 2) Terminar la función\n",
        "  dado = r.randint(1,6)\n",
        "  return dado\n",
        "#======================================================================\n",
        "#   Algoritmo principal Punto de entrada a la aplicación (Conquistar)\n",
        "# =====================================================================\n",
        "\n",
        "#TODO: 3) Programa principal\n",
        "dados = lanzar_dado()\n",
        "print(\"Lanzaminto aleatorio del primer dado:\",dados)\n",
        "print(\"Lanzamiento aleatorio del segundo dado:\",dados)"
      ],
      "execution_count": null,
      "outputs": [
        {
          "output_type": "stream",
          "text": [
            "Lanzaminto aleatorio del primer dado: 3 otro dado 3\n",
            "Lanzamiento aleatorio del segundo dado: 3\n"
          ],
          "name": "stdout"
        }
      ]
    },
    {
      "cell_type": "markdown",
      "metadata": {
        "id": "Ch_F5aGgeUFS"
      },
      "source": [
        "---\n",
        "\n",
        "FINAL LABORATORIO\n",
        "\n",
        "---"
      ]
    }
  ]
}